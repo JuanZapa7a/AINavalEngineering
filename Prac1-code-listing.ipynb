{
  "cells": [
    {
      "cell_type": "markdown",
      "metadata": {
        "id": "lW2nk0GN5xaq"
      },
      "source": [
        "# Chapter 1: Computing with Python"
      ]
    },
    {
      "cell_type": "markdown",
      "metadata": {
        "id": "vOn3DJSG5xar"
      },
      "source": [
        "These notebooks are based on code priovided by Robert Johansson\n",
        "\n",
        "Source code listings for [Numerical Python - A Practical Techniques Approach for Industry](http://www.apress.com/9781484205549) (ISBN 978-1-484205-54-9).\n",
        "\n",
        "The source code listings can be downloaded from http://www.apress.com/9781484205549"
      ]
    },
    {
      "cell_type": "markdown",
      "metadata": {
        "id": "tDcKThbY5xar"
      },
      "source": [
        "## **Interpreter**\n",
        "\n",
        "The standard way to execute Python code is to run the program directly through the\n",
        "Python interpreter. On most systems, the Python interpreter is invoked using the python\n",
        "command. When a Python source file is passed as an argument to this command, the\n",
        "Python code in the file is executed."
      ]
    },
    {
      "cell_type": "markdown",
      "metadata": {
        "id": "3KOJsrmH5xar"
      },
      "source": [
        "**Explanation of the Code Cell**\n",
        "\n",
        "This code cell demonstrates how to create, write, and execute a Python script using Google Colab. Here's a breakdown of each command:\n",
        "\n",
        "**1. `%%writefile hello.py`**\n",
        "- This is a **magic command** in Google Colab that creates a new file named `hello.py` and writes the following lines of code into it.  \n",
        "- The `%%writefile` command is specific to Jupyter Notebooks and Google Colab, allowing you to save code directly into a file.  \n",
        "- In this case, it creates a Python script named `hello.py` with the content:  \n",
        "  ```python\n",
        "  print(\"Hello from Python!\")"
      ]
    },
    {
      "cell_type": "code",
      "execution_count": 2,
      "metadata": {
        "colab": {
          "base_uri": "https://localhost:8080/"
        },
        "id": "FTnDC6hH5xas",
        "outputId": "47550421-84d2-48db-9a26-813c799ddc52"
      },
      "outputs": [
        {
          "output_type": "stream",
          "name": "stdout",
          "text": [
            "Overwriting hello.py\n"
          ]
        }
      ],
      "source": [
        "%%writefile hello.py\n",
        "print(\"Hello from Python!\")"
      ]
    },
    {
      "cell_type": "markdown",
      "metadata": {
        "id": "8y96cb1u5xas"
      },
      "source": [
        "\n",
        "\n",
        "\n",
        "\n",
        "**2. `!python hello.py`**\n",
        "- The `!` symbol is used in Google Colab to execute **shell commands** directly from the notebook.  \n",
        "- This command runs the `hello.py` script using the Python interpreter.  \n",
        "- When executed, it prints the output:  \n",
        "  ```\n",
        "  Hello from Python!\n",
        "  ```\n",
        "\n"
      ]
    },
    {
      "cell_type": "code",
      "execution_count": 5,
      "metadata": {
        "colab": {
          "base_uri": "https://localhost:8080/"
        },
        "id": "m3kgdayw5xas",
        "outputId": "9eb5d12f-48ad-4472-d422-484bc6225181"
      },
      "outputs": [
        {
          "output_type": "stream",
          "name": "stdout",
          "text": [
            "Hello from Python!\n"
          ]
        }
      ],
      "source": [
        "!python hello.py"
      ]
    },
    {
      "cell_type": "markdown",
      "metadata": {
        "id": "DNZN28Py5xas"
      },
      "source": [
        "\n",
        "**3. `!python --version`**\n",
        "- This command checks the **version of Python** installed in the current environment.  \n",
        "- The `--version` flag is a standard Python command-line argument that displays the Python version.  \n",
        "- For example, it might output (depend on actual version):  \n",
        "  ```\n",
        "  Python 3.11.11\n",
        "  ```\n",
        "\n"
      ]
    },
    {
      "cell_type": "code",
      "execution_count": 4,
      "metadata": {
        "colab": {
          "base_uri": "https://localhost:8080/"
        },
        "id": "KMnA8ieT5xat",
        "outputId": "177b1894-2ded-4955-9222-b5575a7b82f7"
      },
      "outputs": [
        {
          "output_type": "stream",
          "name": "stdout",
          "text": [
            "Python 3.11.11\n"
          ]
        }
      ],
      "source": [
        "!python --version"
      ]
    },
    {
      "cell_type": "markdown",
      "metadata": {
        "id": "MgAw8JTR5xat"
      },
      "source": [
        "## Input and output caching\n",
        "\n",
        "In the IPython console, the input prompt is denoted as `In [1]:` and the corresponding\n",
        "output is denoted as `Out [1]:`, where the numbers within the square brackets are\n",
        "incremented for each new input and output. These inputs and outputs are called cells in\n",
        "`IPython`. Both the input and the output of previous cells can later be accessed through the `In` and `Out` variables that are automatically created by IPython. The `In` and `Out`\n",
        "variables are a [list](https://www.geeksforgeeks.org/python-lists/) and a [dictionary](https://www.geeksforgeeks.org/python-dictionary/), respectively, that can be indexed with a cell number.\n",
        "For instance, consider the following IPython session:"
      ]
    },
    {
      "cell_type": "code",
      "execution_count": 6,
      "metadata": {
        "colab": {
          "base_uri": "https://localhost:8080/"
        },
        "id": "Qpipmusk5xat",
        "outputId": "0c1e2f2f-5ec2-4143-fa37-8c353f1cd5d1"
      },
      "outputs": [
        {
          "output_type": "execute_result",
          "data": {
            "text/plain": [
              "9"
            ]
          },
          "metadata": {},
          "execution_count": 6
        }
      ],
      "source": [
        "3 * 3"
      ]
    },
    {
      "cell_type": "code",
      "execution_count": 8,
      "metadata": {
        "colab": {
          "base_uri": "https://localhost:8080/",
          "height": 35
        },
        "id": "Ki4g9NT85xat",
        "outputId": "b11b6e34-246c-4f60-fdce-8bb1e8ef63c5"
      },
      "outputs": [
        {
          "output_type": "execute_result",
          "data": {
            "text/plain": [
              "'3 * 3'"
            ],
            "application/vnd.google.colaboratory.intrinsic+json": {
              "type": "string"
            }
          },
          "metadata": {},
          "execution_count": 8
        }
      ],
      "source": [
        "In[6]"
      ]
    },
    {
      "cell_type": "code",
      "execution_count": 9,
      "metadata": {
        "colab": {
          "base_uri": "https://localhost:8080/"
        },
        "id": "N4i4Ri5X5xat",
        "outputId": "fb2a2521-fa52-4455-909b-ec673af48201"
      },
      "outputs": [
        {
          "output_type": "execute_result",
          "data": {
            "text/plain": [
              "9"
            ]
          },
          "metadata": {},
          "execution_count": 9
        }
      ],
      "source": [
        "Out[6]"
      ]
    },
    {
      "cell_type": "code",
      "execution_count": 10,
      "metadata": {
        "colab": {
          "base_uri": "https://localhost:8080/"
        },
        "id": "FnvcTYxR5xat",
        "outputId": "d4aa0ccf-9a18-435c-fb91-0fe89adadc20"
      },
      "outputs": [
        {
          "output_type": "execute_result",
          "data": {
            "text/plain": [
              "['',\n",
              " 'get_ipython().run_cell_magic(\\'writefile\\', \\'hello.py\\', \\'print(\"Hello from Python!\")\\\\n\\')',\n",
              " 'get_ipython().run_cell_magic(\\'writefile\\', \\'hello.py\\', \\'print(\"Hello from Python!\")\\\\n\\')',\n",
              " \"get_ipython().system('python hello.py')\",\n",
              " \"get_ipython().system('python --version')\",\n",
              " \"get_ipython().system('python hello.py')\",\n",
              " '3 * 3',\n",
              " 'In[1]',\n",
              " 'In[6]',\n",
              " 'Out[6]',\n",
              " 'In']"
            ]
          },
          "metadata": {},
          "execution_count": 10
        }
      ],
      "source": [
        "In"
      ]
    },
    {
      "cell_type": "code",
      "execution_count": 11,
      "metadata": {
        "colab": {
          "base_uri": "https://localhost:8080/"
        },
        "id": "d0GyNq9o5xat",
        "outputId": "f7d9a142-77ba-4624-9024-18d6dd58efb0"
      },
      "outputs": [
        {
          "output_type": "execute_result",
          "data": {
            "text/plain": [
              "{6: 9,\n",
              " 7: 'get_ipython().run_cell_magic(\\'writefile\\', \\'hello.py\\', \\'print(\"Hello from Python!\")\\\\n\\')',\n",
              " 8: '3 * 3',\n",
              " 9: 9,\n",
              " 10: ['',\n",
              "  'get_ipython().run_cell_magic(\\'writefile\\', \\'hello.py\\', \\'print(\"Hello from Python!\")\\\\n\\')',\n",
              "  'get_ipython().run_cell_magic(\\'writefile\\', \\'hello.py\\', \\'print(\"Hello from Python!\")\\\\n\\')',\n",
              "  \"get_ipython().system('python hello.py')\",\n",
              "  \"get_ipython().system('python --version')\",\n",
              "  \"get_ipython().system('python hello.py')\",\n",
              "  '3 * 3',\n",
              "  'In[1]',\n",
              "  'In[6]',\n",
              "  'Out[6]',\n",
              "  'In',\n",
              "  'Out']}"
            ]
          },
          "metadata": {},
          "execution_count": 11
        }
      ],
      "source": [
        "Out"
      ]
    },
    {
      "cell_type": "markdown",
      "source": [
        "The output can be suppressed by\n",
        "ending the statement with a semicolon:"
      ],
      "metadata": {
        "id": "Uc6FAyle-ZA5"
      }
    },
    {
      "cell_type": "code",
      "execution_count": 12,
      "metadata": {
        "colab": {
          "base_uri": "https://localhost:8080/"
        },
        "id": "KE4NABd85xat",
        "outputId": "e06a6d3a-5f3a-4e0e-c3da-0d726e72519d"
      },
      "outputs": [
        {
          "output_type": "execute_result",
          "data": {
            "text/plain": [
              "3"
            ]
          },
          "metadata": {},
          "execution_count": 12
        }
      ],
      "source": [
        "1+2"
      ]
    },
    {
      "cell_type": "code",
      "execution_count": 13,
      "metadata": {
        "id": "8oPAD98h5xat"
      },
      "outputs": [],
      "source": [
        "1+2;"
      ]
    },
    {
      "cell_type": "code",
      "execution_count": 14,
      "metadata": {
        "id": "c9m5Q7hT5xat"
      },
      "outputs": [],
      "source": [
        "x = 1"
      ]
    },
    {
      "cell_type": "code",
      "execution_count": 15,
      "metadata": {
        "colab": {
          "base_uri": "https://localhost:8080/"
        },
        "id": "M9gh87QR5xau",
        "outputId": "3c2bde2e-0a41-4333-b15c-9337bbf3ccd3"
      },
      "outputs": [
        {
          "output_type": "execute_result",
          "data": {
            "text/plain": [
              "2"
            ]
          },
          "metadata": {},
          "execution_count": 15
        }
      ],
      "source": [
        "x = 2; x"
      ]
    },
    {
      "cell_type": "markdown",
      "metadata": {
        "id": "vYQEmo2p5xau"
      },
      "source": [
        "## Autocompletion and Object Introspection\n",
        "\n",
        "In IPython, pressing the `TAB key` activates autocompletion, which displays a list of\n",
        "symbols (variables, functions, classes, etc.) with names that are valid completions of\n",
        "what has already been typed. The autocompletion in IPython is contextual, and it will\n",
        "look for matching variables and functions in the current namespace or among the\n",
        "attributes and methods of a class when invoked after the name of a class instance."
      ]
    },
    {
      "cell_type": "code",
      "execution_count": 16,
      "metadata": {
        "id": "lc3foHRb5xau"
      },
      "outputs": [],
      "source": [
        "import os"
      ]
    },
    {
      "cell_type": "code",
      "execution_count": 18,
      "metadata": {
        "id": "_BlJ7X7b5xau"
      },
      "outputs": [],
      "source": [
        "# try os.w<TAB>\n"
      ]
    },
    {
      "cell_type": "markdown",
      "source": [
        "## Documentation\n",
        "\n",
        "Object introspection is convenient for exploring the API of a module and its member\n",
        "classes and functions, and together with the documentation strings, or “docstrings”, that\n",
        "are commonly provided in Python code, it provides a built-in dynamic reference manual\n",
        "for almost any Python module that is installed and can be imported. A Python object\n",
        "followed by a question mark displays the documentation string for the object. This is\n",
        "similar to the Python function help. An object can also be followed by two question\n",
        "marks, in which case IPython tries to display more detailed documentation, including\n",
        "the Python source code if available."
      ],
      "metadata": {
        "id": "ZisiBDoG_F-7"
      }
    },
    {
      "cell_type": "code",
      "execution_count": 19,
      "metadata": {
        "id": "KNP5mYSa5xau"
      },
      "outputs": [],
      "source": [
        "import math"
      ]
    },
    {
      "cell_type": "code",
      "execution_count": 51,
      "metadata": {
        "id": "fYgVs6Ho5xau"
      },
      "outputs": [],
      "source": [
        "math.cos?"
      ]
    },
    {
      "cell_type": "markdown",
      "metadata": {
        "id": "bXdau7r65xau"
      },
      "source": [
        "## Interaction with System Shell\n",
        "\n",
        "IPython also `provides extensions` to the Python language that makes it convenient\n",
        "to interact with the underlying system. Anything that follows an exclamation mark\n",
        "is evaluated using the system shell (such as bash shell). For example, on a UNIX-like\n",
        "system, such as Linux or Mac OS X, listing files in the current directory can be done using `ls`"
      ]
    },
    {
      "cell_type": "code",
      "execution_count": 23,
      "metadata": {
        "id": "SNtUjd5d5xau"
      },
      "outputs": [],
      "source": [
        "# First write three .py files wuith using UNIX touch\n",
        "!touch file1.py file2.py file3.py"
      ]
    },
    {
      "cell_type": "code",
      "execution_count": 25,
      "metadata": {
        "colab": {
          "base_uri": "https://localhost:8080/"
        },
        "id": "pjnYVnah5xau",
        "outputId": "57e05ef8-67b6-42ee-eea7-1283ace69e44"
      },
      "outputs": [
        {
          "output_type": "stream",
          "name": "stdout",
          "text": [
            "file1.py  file2.py  file3.py\n"
          ]
        }
      ],
      "source": [
        "!ls file*"
      ]
    },
    {
      "cell_type": "markdown",
      "source": [
        "On Microsoft Windows, the equivalent command would be `!dir`. This method for\n",
        "interacting with the OS is a very powerful feature that makes it easy to navigate the file\n",
        "system and to use the IPython console as a system shell. The output generated by a\n",
        "command following an exclamation mark can easily be captured in a Python variable."
      ],
      "metadata": {
        "id": "TvHj9QojA32g"
      }
    },
    {
      "cell_type": "code",
      "execution_count": 26,
      "metadata": {
        "id": "lOhoTyXS5xau"
      },
      "outputs": [],
      "source": [
        "files = !ls file* # or files= !dir file*"
      ]
    },
    {
      "cell_type": "code",
      "execution_count": 27,
      "metadata": {
        "colab": {
          "base_uri": "https://localhost:8080/"
        },
        "id": "DoS1zS5c5xau",
        "outputId": "1ecbecc8-3123-4635-ac2c-e9804cf17c50"
      },
      "outputs": [
        {
          "output_type": "execute_result",
          "data": {
            "text/plain": [
              "1"
            ]
          },
          "metadata": {},
          "execution_count": 27
        }
      ],
      "source": [
        "len(files)"
      ]
    },
    {
      "cell_type": "code",
      "execution_count": 28,
      "metadata": {
        "colab": {
          "base_uri": "https://localhost:8080/"
        },
        "id": "Dst8Tv5l5xau",
        "outputId": "05edeea4-3e08-41a5-ae68-6e4deacfbbf7"
      },
      "outputs": [
        {
          "output_type": "execute_result",
          "data": {
            "text/plain": [
              "['file1.py  file2.py  file3.py']"
            ]
          },
          "metadata": {},
          "execution_count": 28
        }
      ],
      "source": [
        "files"
      ]
    },
    {
      "cell_type": "markdown",
      "source": [
        "Likewise, we can pass the values of Python variables to shell commands by prefixing\n",
        "the variable name with a `$ sign`:"
      ],
      "metadata": {
        "id": "-b0NJ7V5BZ1s"
      }
    },
    {
      "cell_type": "code",
      "execution_count": 29,
      "metadata": {
        "id": "0w_7HINU5xau"
      },
      "outputs": [],
      "source": [
        "file = \"file1.py\""
      ]
    },
    {
      "cell_type": "code",
      "execution_count": 30,
      "metadata": {
        "colab": {
          "base_uri": "https://localhost:8080/"
        },
        "id": "2W96JM6P5xau",
        "outputId": "a4fc0edd-c8d7-4273-f11c-620bd359b9e6"
      },
      "outputs": [
        {
          "output_type": "stream",
          "name": "stdout",
          "text": [
            "-rw-r--r-- 1 root root 0 Feb 12 16:32 file1.py\n"
          ]
        }
      ],
      "source": [
        "!ls -l $file"
      ]
    },
    {
      "cell_type": "markdown",
      "source": [
        "## IPython Extensions\n",
        "IPython provides extension commands that are called magic functions in IPython\n",
        "terminology. These commands all start with one or two `% signs`. `A single %` sign is used\n",
        "for one-line commands, and `two % signs` are used for commands that operate on cells\n",
        "(multiple lines). For a complete list of available extension commands, type `%lsmagic`,\n",
        "and the documentation for each command can be obtained by typing the magic\n",
        "command followed by a question mark `?`:"
      ],
      "metadata": {
        "id": "TBK_LtI2Bpya"
      }
    },
    {
      "cell_type": "code",
      "source": [
        "%lsmagic"
      ],
      "metadata": {
        "id": "Ghw-OIMfCG4b"
      },
      "execution_count": 52,
      "outputs": []
    },
    {
      "cell_type": "code",
      "source": [
        "%cp?"
      ],
      "metadata": {
        "id": "6laeq2gaCRKd"
      },
      "execution_count": 54,
      "outputs": []
    },
    {
      "cell_type": "markdown",
      "metadata": {
        "id": "U21zJgrr5xau"
      },
      "source": [
        "## Running scripts from the IPython console\n",
        "\n",
        "The command `%run` is an important and useful extension, perhaps one of the most\n",
        "important features of the IPython console. With this command, an external Python\n",
        "source code file can be executed within an interactive IPython session. Keeping a session\n",
        "active between multiple runs of a script makes it possible to explore the variables and\n",
        "functions defined in a script interactively after the execution of the script has finished.\n",
        "To demonstrate this functionality, consider a script file `fib.py` that contains the\n",
        "following code:"
      ]
    },
    {
      "cell_type": "code",
      "execution_count": 55,
      "metadata": {
        "colab": {
          "base_uri": "https://localhost:8080/"
        },
        "id": "4pX2Yx9G5xau",
        "outputId": "a35261bf-31ad-4c9b-8116-0a8cbb3ae2af"
      },
      "outputs": [
        {
          "output_type": "stream",
          "name": "stdout",
          "text": [
            "Writing fib.py\n"
          ]
        }
      ],
      "source": [
        "%%writefile fib.py\n",
        "\n",
        "def fib(N):\n",
        "    \"\"\"\n",
        "    Return a list of the first N Fibonacci numbers.\n",
        "    \"\"\"\n",
        "    f0, f1 = 0, 1\n",
        "    f = [1] * N\n",
        "    for n in range(1, N):\n",
        "        f[n] = f0 + f1\n",
        "        f0, f1 = f1, f[n]\n",
        "\n",
        "    return f\n",
        "\n",
        "print(fib(10))"
      ]
    },
    {
      "cell_type": "markdown",
      "source": [
        "It defines a function that generates a sequence of n Fibonacci numbers and prints\n",
        "the result for n = 10 to the standard output. It can be run from the system terminal using\n",
        "the `standard Python interpreter`:"
      ],
      "metadata": {
        "id": "d8imnmBeFCNO"
      }
    },
    {
      "cell_type": "code",
      "execution_count": 56,
      "metadata": {
        "colab": {
          "base_uri": "https://localhost:8080/"
        },
        "id": "J8r55RFY5xau",
        "outputId": "53248a4a-12a9-4eb1-874a-8db4bc164415"
      },
      "outputs": [
        {
          "output_type": "stream",
          "name": "stdout",
          "text": [
            "[1, 1, 2, 3, 5, 8, 13, 21, 34, 55]\n"
          ]
        }
      ],
      "source": [
        "!python fib.py"
      ]
    },
    {
      "cell_type": "markdown",
      "source": [
        "It can also be run from an `interactive IPython interpreter`, which produces the\n",
        "same output, but also `adds` the symbols defined in the file to the local namespace,\n",
        "so that the fib function is available in the interactive session after the `%run` command\n",
        "has been issued."
      ],
      "metadata": {
        "id": "uea9z5c_FScn"
      }
    },
    {
      "cell_type": "code",
      "execution_count": 57,
      "metadata": {
        "colab": {
          "base_uri": "https://localhost:8080/"
        },
        "id": "kNx3q6PT5xav",
        "outputId": "6a60bfa3-ba37-422d-9376-ab7ba2a0140d"
      },
      "outputs": [
        {
          "output_type": "stream",
          "name": "stdout",
          "text": [
            "[1, 1, 2, 3, 5, 8, 13, 21, 34, 55]\n"
          ]
        }
      ],
      "source": [
        "%run fib.py"
      ]
    },
    {
      "cell_type": "code",
      "execution_count": 60,
      "metadata": {
        "colab": {
          "base_uri": "https://localhost:8080/"
        },
        "id": "AWQUJBTH5xav",
        "outputId": "b8dbd926-aad2-4ee5-9c92-c6da766a626c"
      },
      "outputs": [
        {
          "output_type": "execute_result",
          "data": {
            "text/plain": [
              "[1, 1, 2, 3, 5, 8, 13, 21, 34, 55, 89, 144, 233, 377, 610]"
            ]
          },
          "metadata": {},
          "execution_count": 60
        }
      ],
      "source": [
        "fib(15)"
      ]
    },
    {
      "cell_type": "markdown",
      "source": [
        "We also made use of the `%who` command, which lists\n",
        "all defined symbols (variables and functions). The `%whos` command is similar, but\n",
        "also gives more detailed information about the type and value of each symbol, when\n",
        "applicable."
      ],
      "metadata": {
        "id": "hBRa-bAqF3NM"
      }
    },
    {
      "cell_type": "code",
      "source": [
        "%who"
      ],
      "metadata": {
        "id": "b2rVorFhF8b4",
        "outputId": "be03d5bf-4cfe-4419-b8d3-603d3c0d4246",
        "colab": {
          "base_uri": "https://localhost:8080/"
        }
      },
      "execution_count": 61,
      "outputs": [
        {
          "output_type": "stream",
          "name": "stdout",
          "text": [
            "fib\t file\t files\t math\t os\t x\t \n"
          ]
        }
      ]
    },
    {
      "cell_type": "code",
      "source": [
        "%whos"
      ],
      "metadata": {
        "id": "mDytr5zaGKkX",
        "outputId": "54032970-b637-4556-d035-5c9244bb6317",
        "colab": {
          "base_uri": "https://localhost:8080/"
        }
      },
      "execution_count": 62,
      "outputs": [
        {
          "output_type": "stream",
          "name": "stdout",
          "text": [
            "Variable   Type        Data/Info\n",
            "--------------------------------\n",
            "fib        function    <function fib at 0x79456e563c40>\n",
            "file       str         file1.py\n",
            "files      SList       ['file1.py  file2.py  file3.py']\n",
            "math       module      <module 'math' (built-in)>\n",
            "os         module      <module 'os' (frozen)>\n",
            "x          int         2\n"
          ]
        }
      ]
    },
    {
      "cell_type": "markdown",
      "metadata": {
        "id": "QTw6Vs2n5xav"
      },
      "source": [
        "## Debugger"
      ]
    },
    {
      "cell_type": "markdown",
      "source": [
        "IPython includes a handy debugger mode, which can be invoked postmortem after\n",
        "a Python exception (error) has been raised. After the traceback of an unintercepted\n",
        "exception has been printed to the IPython console, it is possible to step directly into the\n",
        "Python debugger using the IPython command %debug. This possibility can eliminate\n",
        "the need to rerun the program from the beginning using the debugger or after having\n",
        "employed the common debugging method of sprinkling print statements into the code.\n",
        "If the exception was unexpected and happened late in a time-consuming computation,\n",
        "this can be a big time-saver."
      ],
      "metadata": {
        "id": "arIF5y0VGU-O"
      }
    },
    {
      "cell_type": "code",
      "execution_count": 63,
      "metadata": {
        "colab": {
          "base_uri": "https://localhost:8080/",
          "height": 280
        },
        "id": "nvxtjHlF5xav",
        "outputId": "95e45007-ee74-4e62-cdf0-1edd44f4fd83"
      },
      "outputs": [
        {
          "output_type": "error",
          "ename": "TypeError",
          "evalue": "can't multiply sequence by non-int of type 'float'",
          "traceback": [
            "\u001b[0;31m---------------------------------------------------------------------------\u001b[0m",
            "\u001b[0;31mTypeError\u001b[0m                                 Traceback (most recent call last)",
            "\u001b[0;32m<ipython-input-63-5697359205dc>\u001b[0m in \u001b[0;36m<cell line: 0>\u001b[0;34m()\u001b[0m\n\u001b[1;32m      1\u001b[0m \u001b[0;31m# This sentence is incorrect because fib expects an integer\u001b[0m\u001b[0;34m\u001b[0m\u001b[0;34m\u001b[0m\u001b[0m\n\u001b[0;32m----> 2\u001b[0;31m \u001b[0mfib\u001b[0m\u001b[0;34m(\u001b[0m\u001b[0;36m1.0\u001b[0m\u001b[0;34m)\u001b[0m\u001b[0;34m\u001b[0m\u001b[0;34m\u001b[0m\u001b[0m\n\u001b[0m",
            "\u001b[0;32m/content/fib.py\u001b[0m in \u001b[0;36mfib\u001b[0;34m(N)\u001b[0m\n\u001b[1;32m      5\u001b[0m     \"\"\" \n\u001b[1;32m      6\u001b[0m     \u001b[0mf0\u001b[0m\u001b[0;34m,\u001b[0m \u001b[0mf1\u001b[0m \u001b[0;34m=\u001b[0m \u001b[0;36m0\u001b[0m\u001b[0;34m,\u001b[0m \u001b[0;36m1\u001b[0m\u001b[0;34m\u001b[0m\u001b[0;34m\u001b[0m\u001b[0m\n\u001b[0;32m----> 7\u001b[0;31m     \u001b[0mf\u001b[0m \u001b[0;34m=\u001b[0m \u001b[0;34m[\u001b[0m\u001b[0;36m1\u001b[0m\u001b[0;34m]\u001b[0m \u001b[0;34m*\u001b[0m \u001b[0mN\u001b[0m\u001b[0;34m\u001b[0m\u001b[0;34m\u001b[0m\u001b[0m\n\u001b[0m\u001b[1;32m      8\u001b[0m     \u001b[0;32mfor\u001b[0m \u001b[0mn\u001b[0m \u001b[0;32min\u001b[0m \u001b[0mrange\u001b[0m\u001b[0;34m(\u001b[0m\u001b[0;36m1\u001b[0m\u001b[0;34m,\u001b[0m \u001b[0mN\u001b[0m\u001b[0;34m)\u001b[0m\u001b[0;34m:\u001b[0m\u001b[0;34m\u001b[0m\u001b[0;34m\u001b[0m\u001b[0m\n\u001b[1;32m      9\u001b[0m         \u001b[0mf\u001b[0m\u001b[0;34m[\u001b[0m\u001b[0mn\u001b[0m\u001b[0;34m]\u001b[0m \u001b[0;34m=\u001b[0m \u001b[0mf0\u001b[0m \u001b[0;34m+\u001b[0m \u001b[0mf1\u001b[0m\u001b[0;34m\u001b[0m\u001b[0;34m\u001b[0m\u001b[0m\n",
            "\u001b[0;31mTypeError\u001b[0m: can't multiply sequence by non-int of type 'float'"
          ]
        }
      ],
      "source": [
        "# This sentence is incorrect because fib expects an integer\n",
        "fib(1.0)"
      ]
    },
    {
      "cell_type": "markdown",
      "source": [
        "On line 7 the code runs into a type error, and the Python\n",
        "interpreter raises an exception of the type `TypeError`. IPython catches the exception and prints out a useful traceback of the call sequence on the console\n",
        "\n",
        "If we are clueless as\n",
        "to why the code on line 7 contains an error, it could be useful to enter the debugger by\n",
        "typing `%debug` in the IPython console. We then get access to the local namespace at\n",
        "the source of the exception, which can allow us to explore in more detail why the\n",
        "exception was raised.\n",
        "\n",
        "Type a question mark `?` at the debugger prompt to show a help menu that\n",
        "lists available commands:"
      ],
      "metadata": {
        "id": "Cy5ap_f8HFfQ"
      }
    },
    {
      "cell_type": "code",
      "execution_count": 64,
      "metadata": {
        "colab": {
          "base_uri": "https://localhost:8080/"
        },
        "id": "jEM2XvVr5xav",
        "outputId": "772ce004-5ef4-4367-dbd2-986da34291ed"
      },
      "outputs": [
        {
          "output_type": "stream",
          "name": "stdout",
          "text": [
            "> \u001b[0;32m/content/fib.py\u001b[0m(7)\u001b[0;36mfib\u001b[0;34m()\u001b[0m\n",
            "\u001b[0;32m      5 \u001b[0;31m    \"\"\" \n",
            "\u001b[0m\u001b[0;32m      6 \u001b[0;31m    \u001b[0mf0\u001b[0m\u001b[0;34m,\u001b[0m \u001b[0mf1\u001b[0m \u001b[0;34m=\u001b[0m \u001b[0;36m0\u001b[0m\u001b[0;34m,\u001b[0m \u001b[0;36m1\u001b[0m\u001b[0;34m\u001b[0m\u001b[0;34m\u001b[0m\u001b[0m\n",
            "\u001b[0m\u001b[0;32m----> 7 \u001b[0;31m    \u001b[0mf\u001b[0m \u001b[0;34m=\u001b[0m \u001b[0;34m[\u001b[0m\u001b[0;36m1\u001b[0m\u001b[0;34m]\u001b[0m \u001b[0;34m*\u001b[0m \u001b[0mN\u001b[0m\u001b[0;34m\u001b[0m\u001b[0;34m\u001b[0m\u001b[0m\n",
            "\u001b[0m\u001b[0;32m      8 \u001b[0;31m    \u001b[0;32mfor\u001b[0m \u001b[0mn\u001b[0m \u001b[0;32min\u001b[0m \u001b[0mrange\u001b[0m\u001b[0;34m(\u001b[0m\u001b[0;36m1\u001b[0m\u001b[0;34m,\u001b[0m \u001b[0mN\u001b[0m\u001b[0;34m)\u001b[0m\u001b[0;34m:\u001b[0m\u001b[0;34m\u001b[0m\u001b[0;34m\u001b[0m\u001b[0m\n",
            "\u001b[0m\u001b[0;32m      9 \u001b[0;31m        \u001b[0mf\u001b[0m\u001b[0;34m[\u001b[0m\u001b[0mn\u001b[0m\u001b[0;34m]\u001b[0m \u001b[0;34m=\u001b[0m \u001b[0mf0\u001b[0m \u001b[0;34m+\u001b[0m \u001b[0mf1\u001b[0m\u001b[0;34m\u001b[0m\u001b[0;34m\u001b[0m\u001b[0m\n",
            "\u001b[0m\n",
            "ipdb> print(N)\n",
            "1.0\n",
            "ipdb> ?\n",
            "\n",
            "Documented commands (type help <topic>):\n",
            "========================================\n",
            "EOF    commands   enable    ll        pp       s                until \n",
            "a      condition  exit      longlist  psource  skip_hidden      up    \n",
            "alias  cont       h         n         q        skip_predicates  w     \n",
            "args   context    help      next      quit     source           whatis\n",
            "b      continue   ignore    p         r        step             where \n",
            "break  d          interact  pdef      restart  tbreak         \n",
            "bt     debug      j         pdoc      return   u              \n",
            "c      disable    jump      pfile     retval   unalias        \n",
            "cl     display    l         pinfo     run      undisplay      \n",
            "clear  down       list      pinfo2    rv       unt            \n",
            "\n",
            "Miscellaneous help topics:\n",
            "==========================\n",
            "exec  pdb\n",
            "\n"
          ]
        },
        {
          "output_type": "stream",
          "name": "stderr",
          "text": [
            "\n",
            "PYDEV DEBUGGER WARNING:\n",
            "sys.settrace() should not be used when the debugger is being used.\n",
            "This may cause the debugger to stop working correctly.\n",
            "If this is needed, please check: \n",
            "http://pydev.blogspot.com/2007/06/why-cant-pydev-debugger-work-with.html\n",
            "to see how to restore the debug tracing back correctly.\n",
            "Call Location:\n",
            "  File \"/usr/lib/python3.11/bdb.py\", line 361, in set_quit\n",
            "    sys.settrace(None)\n",
            "\n",
            "\n",
            "PYDEV DEBUGGER WARNING:\n",
            "sys.settrace() should not be used when the debugger is being used.\n",
            "This may cause the debugger to stop working correctly.\n",
            "If this is needed, please check: \n",
            "http://pydev.blogspot.com/2007/06/why-cant-pydev-debugger-work-with.html\n",
            "to see how to restore the debug tracing back correctly.\n",
            "Call Location:\n",
            "  File \"/usr/local/lib/python3.11/dist-packages/IPython/core/debugger.py\", line 1075, in cmdloop\n",
            "    sys.settrace(None)\n",
            "\n"
          ]
        },
        {
          "output_type": "stream",
          "name": "stdout",
          "text": [
            "--KeyboardInterrupt--\n",
            "\n",
            "KeyboardInterrupt: Interrupted by user\n"
          ]
        }
      ],
      "source": [
        "%debug"
      ]
    },
    {
      "cell_type": "markdown",
      "source": [
        "## Reset\n",
        "\n",
        "Resetting the namespace of an IPython session is often useful to ensure that a program\n",
        "is run in a pristine environment, uncluttered by existing variables and functions. The\n",
        "`%reset` command provides this functionality (use the flag –f to force the reset).\n",
        "\n",
        "\n",
        "Although it is necessary to reimport modules after the `%reset` command has\n",
        "been used, it is important to know that even if the modules have changed since the last\n",
        "import, a new import after a `%reset` will not import the new module but rather reenable\n",
        "a cached version of the module from the previous import.\n",
        "\n",
        "\n"
      ],
      "metadata": {
        "id": "2XJBLdzbIENT"
      }
    },
    {
      "cell_type": "code",
      "source": [
        "%reset -f"
      ],
      "metadata": {
        "id": "XTX2LOdtIrcD"
      },
      "execution_count": 65,
      "outputs": []
    },
    {
      "cell_type": "markdown",
      "metadata": {
        "id": "hg2r5jx75xav"
      },
      "source": [
        "## Timing and profiling code"
      ]
    },
    {
      "cell_type": "code",
      "execution_count": null,
      "metadata": {
        "id": "YVGePXf05xav"
      },
      "outputs": [],
      "source": [
        "%timeit fib(100)"
      ]
    },
    {
      "cell_type": "code",
      "execution_count": null,
      "metadata": {
        "id": "Po--kD515xav"
      },
      "outputs": [],
      "source": [
        "result = %time fib(100)"
      ]
    },
    {
      "cell_type": "code",
      "execution_count": null,
      "metadata": {
        "id": "7_ET4P0b5xav"
      },
      "outputs": [],
      "source": [
        "len(result)"
      ]
    },
    {
      "cell_type": "code",
      "execution_count": null,
      "metadata": {
        "id": "AOODF73X5xav"
      },
      "outputs": [],
      "source": [
        "import numpy as np\n",
        "\n",
        "def random_walker_max_distance(M, N):\n",
        "    \"\"\"\n",
        "    Simulate N random walkers taking M steps, and return the largest distance\n",
        "    from the starting point achieved by any of the random walkers.\n",
        "    \"\"\"\n",
        "    trajectories = [np.random.randn(M).cumsum() for _ in range(N)]\n",
        "    return np.max(np.abs(trajectories))"
      ]
    },
    {
      "cell_type": "code",
      "execution_count": null,
      "metadata": {
        "id": "FUbPb6i75xav"
      },
      "outputs": [],
      "source": [
        "%prun random_walker_max_distance(400, 10000)"
      ]
    },
    {
      "cell_type": "markdown",
      "metadata": {
        "id": "KxzJV-ta5xav"
      },
      "source": [
        "## Jupyter notebook"
      ]
    },
    {
      "cell_type": "code",
      "execution_count": null,
      "metadata": {
        "id": "GARuyINe5xav"
      },
      "outputs": [],
      "source": [
        "from IPython.display import display, Image, HTML, Math"
      ]
    },
    {
      "cell_type": "code",
      "execution_count": null,
      "metadata": {
        "id": "bZnxtMC_5xaw"
      },
      "outputs": [],
      "source": [
        "Image(url='http://python.org/images/python-logo.gif')"
      ]
    },
    {
      "cell_type": "code",
      "execution_count": null,
      "metadata": {
        "id": "FSeIGzQR5xaw"
      },
      "outputs": [],
      "source": [
        "import scipy, numpy, matplotlib\n",
        "modules = [numpy, matplotlib, scipy]\n",
        "row = \"<tr> <td>%s</td> <td>%s</td> </tr>\"\n",
        "rows = \"\\n\".join([row % (module.__name__, module.__version__) for module in modules])\n",
        "s = \"<table> <tr><th>Library</th><th>Version</th> </tr> %s</table>\" % rows"
      ]
    },
    {
      "cell_type": "code",
      "execution_count": null,
      "metadata": {
        "id": "6YLnRTK-5xaw"
      },
      "outputs": [],
      "source": [
        "s"
      ]
    },
    {
      "cell_type": "code",
      "execution_count": null,
      "metadata": {
        "id": "ARg_xZ805xaw"
      },
      "outputs": [],
      "source": [
        "HTML(s)"
      ]
    },
    {
      "cell_type": "code",
      "execution_count": null,
      "metadata": {
        "id": "cRhF_qqc5xaw"
      },
      "outputs": [],
      "source": [
        "class HTMLDisplayer(object):\n",
        "    def __init__(self, code):\n",
        "        self.code = code\n",
        "\n",
        "    def _repr_html_(self):\n",
        "        return self.code"
      ]
    },
    {
      "cell_type": "code",
      "execution_count": null,
      "metadata": {
        "id": "-asZtKiy5xaw"
      },
      "outputs": [],
      "source": [
        "HTMLDisplayer(s)"
      ]
    },
    {
      "cell_type": "code",
      "execution_count": null,
      "metadata": {
        "id": "z8qb0Gfv5xaw"
      },
      "outputs": [],
      "source": [
        "Math(r'\\hat{H} = -\\frac{1}{2}\\epsilon \\hat{\\sigma}_z-\\frac{1}{2}\\delta \\hat{\\sigma}_x')"
      ]
    },
    {
      "cell_type": "code",
      "execution_count": null,
      "metadata": {
        "id": "H6QmUz1r5xaw"
      },
      "outputs": [],
      "source": [
        "class QubitHamiltonian(object):\n",
        "    def __init__(self, epsilon, delta):\n",
        "        self.epsilon = epsilon\n",
        "        self.delta = delta\n",
        "\n",
        "    def _repr_latex_(self):\n",
        "        return \"$\\hat{H} = -%.2f\\hat{\\sigma}_z-%.2f\\hat{\\sigma}_x$\" % \\\n",
        "            (self.epsilon/2, self.delta/2)"
      ]
    },
    {
      "cell_type": "code",
      "execution_count": null,
      "metadata": {
        "id": "rjWMchSa5xaw"
      },
      "outputs": [],
      "source": [
        "QubitHamiltonian(0.5, 0.25)"
      ]
    },
    {
      "cell_type": "code",
      "execution_count": null,
      "metadata": {
        "id": "cAoVBkEO5xaw"
      },
      "outputs": [],
      "source": [
        "import matplotlib.pyplot as plt\n",
        "import numpy as np\n",
        "from scipy import stats\n",
        "\n",
        "def f(mu):\n",
        "    X = stats.norm(loc=mu, scale=np.sqrt(mu))\n",
        "    N = stats.poisson(mu)\n",
        "    x = np.linspace(0, X.ppf(0.999))\n",
        "    n = np.arange(0, x[-1])\n",
        "\n",
        "    fig, ax = plt.subplots()\n",
        "    ax.plot(x, X.pdf(x), color='black', lw=2, label=\"Normal($\\mu=%d, \\sigma^2=%d$)\" % (mu, mu))\n",
        "    ax.bar(n, N.pmf(n), align='edge', label=r\"Poisson($\\lambda=%d$)\" % mu)\n",
        "    ax.set_ylim(0, X.pdf(x).max() * 1.25)\n",
        "    ax.legend(loc=2, ncol=2)\n",
        "    plt.close(fig)\n",
        "    return fig"
      ]
    },
    {
      "cell_type": "code",
      "execution_count": null,
      "metadata": {
        "id": "GR4pPW0-5xaw"
      },
      "outputs": [],
      "source": [
        "from ipywidgets import interact\n",
        "import ipywidgets as widgets"
      ]
    },
    {
      "cell_type": "code",
      "execution_count": null,
      "metadata": {
        "id": "HnE-irOp5xaw"
      },
      "outputs": [],
      "source": [
        "interact(f, mu=widgets.FloatSlider(min=1.0, max=20.0, step=1.0));"
      ]
    },
    {
      "cell_type": "markdown",
      "metadata": {
        "id": "blU5hmt05xaw"
      },
      "source": [
        "## Jupyter nbconvert"
      ]
    },
    {
      "cell_type": "code",
      "execution_count": null,
      "metadata": {
        "id": "yrKDQbTt5xax"
      },
      "outputs": [],
      "source": [
        "!ipython nbconvert --to html ch01-code-listing.ipynb"
      ]
    },
    {
      "cell_type": "code",
      "execution_count": null,
      "metadata": {
        "id": "Y1TkcGfj5xax"
      },
      "outputs": [],
      "source": [
        "!ipython nbconvert --to pdf ch01-code-listing.ipynb"
      ]
    },
    {
      "cell_type": "code",
      "execution_count": null,
      "metadata": {
        "id": "LaZMbb7E5xax"
      },
      "outputs": [],
      "source": [
        "%%writefile custom_template.tplx\n",
        "((*- extends 'article.tplx' -*))\n",
        "\n",
        "((* block title *)) \\title{Document title} ((* endblock title *))\n",
        "((* block author *)) \\author{Author's Name} ((* endblock author *))"
      ]
    },
    {
      "cell_type": "code",
      "execution_count": null,
      "metadata": {
        "id": "hizff2m85xax"
      },
      "outputs": [],
      "source": [
        "!ipython nbconvert ch01-code-listing.ipynb --to pdf --template custom_template.tplx"
      ]
    },
    {
      "cell_type": "code",
      "execution_count": null,
      "metadata": {
        "id": "1EJlIz2u5xax"
      },
      "outputs": [],
      "source": [
        "!ipython nbconvert ch01-code-listing.ipynb --to python"
      ]
    },
    {
      "cell_type": "markdown",
      "metadata": {
        "id": "u7uRHoj15xax"
      },
      "source": [
        "# Versions"
      ]
    },
    {
      "cell_type": "code",
      "execution_count": null,
      "metadata": {
        "id": "_IUVpATr5xax"
      },
      "outputs": [],
      "source": [
        "%reload_ext version_information\n",
        "%version_information numpy"
      ]
    }
  ],
  "metadata": {
    "kernelspec": {
      "display_name": "Python 3.6 (NPM ed2)",
      "language": "python",
      "name": "py3.6-npm-e2"
    },
    "language_info": {
      "codemirror_mode": {
        "name": "ipython",
        "version": 3
      },
      "file_extension": ".py",
      "mimetype": "text/x-python",
      "name": "python",
      "nbconvert_exporter": "python",
      "pygments_lexer": "ipython3",
      "version": "3.6.6"
    },
    "colab": {
      "provenance": []
    }
  },
  "nbformat": 4,
  "nbformat_minor": 0
}