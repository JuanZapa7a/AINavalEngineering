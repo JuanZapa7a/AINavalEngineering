{
  "cells": [
    {
      "cell_type": "markdown",
      "metadata": {
        "id": "w7yAmKG9co8I"
      },
      "source": [
        "These notebooks are based on code provided by Robert Johansson - [Numerical Python - A Practical Techniques Approach for Industry](http://www.apress.com/9781484205549) (ISBN 978-1-484205-54-9)."
      ]
    },
    {
      "cell_type": "markdown",
      "metadata": {
        "id": "psoIFw1qco8J"
      },
      "source": [
        "# Chapter 2: Vectors, matrices and multidimensional arrays"
      ]
    },
    {
      "cell_type": "markdown",
      "metadata": {
        "id": "XRvunA-Oco8J"
      },
      "source": [
        "Vectors, matrices, and arrays of higher dimensions are essential tools in numerical\n",
        "computing. When a computation must be repeated for a set of input values, it is natural\n",
        "and advantageous to represent the data as arrays and the computation in terms of\n",
        "array operations. Computations that are formulated this way are said to be vectorized.\n",
        "\n",
        "Vectorized computations can\n",
        "therefore be significantly faster than sequential element-by-element computations. This\n",
        "is particularly important in an interpreted language such as Python, where looping over\n",
        "arrays element by element entails a significant performance overhead.\n",
        "\n",
        "In Python’s scientific computing environment, efficient data structures for working\n",
        "with arrays are provided by the `NumPy` library. The core of NumPy is implemented in C\n",
        "and provides efficient functions for manipulating and processing arrays."
      ]
    },
    {
      "cell_type": "markdown",
      "metadata": {
        "id": "KZWW5UNeco8K"
      },
      "source": [
        "## Importing the Modules\n",
        "\n",
        "In order to use the NumPy library, we need to import it in our program. By convention,\n",
        "the numPy module imported under the alias `np`."
      ]
    },
    {
      "cell_type": "code",
      "execution_count": 3,
      "metadata": {
        "id": "o2NZ35rwco8K"
      },
      "outputs": [],
      "source": [
        "import numpy as np"
      ]
    },
    {
      "cell_type": "markdown",
      "metadata": {
        "id": "lf9VaWGuco8K"
      },
      "source": [
        "## The NumPy array object\n",
        "\n",
        "The main data structure for multidimensional arrays in `NumPy` is the `ndarray` class. In addition to the data stored in the array, this data structure also\n",
        "contains important metadata about the array, such as its shape, size, data type, and other\n",
        "attributes.\n",
        "\n",
        "A full list of\n",
        "attributes with descriptions is available in the `ndarray docstring`."
      ]
    },
    {
      "cell_type": "code",
      "execution_count": 4,
      "metadata": {
        "id": "w9mG7-c9co8K"
      },
      "outputs": [],
      "source": [
        "np.ndarray?\n"
      ]
    },
    {
      "cell_type": "markdown",
      "source": [
        "The following example demonstrates how these attributes are accessed for an\n",
        "instance data of the class ndarray:"
      ],
      "metadata": {
        "id": "5Q1Ty-cLcyZs"
      }
    },
    {
      "cell_type": "code",
      "execution_count": 5,
      "metadata": {
        "id": "NVuM929Vco8K"
      },
      "outputs": [],
      "source": [
        "data = np.array([[1, 2], [3, 4], [5, 6]])"
      ]
    },
    {
      "cell_type": "code",
      "execution_count": 6,
      "metadata": {
        "id": "8dwM6p8jco8L",
        "outputId": "21430fcb-3de9-461f-ccf9-8d99a6f26516",
        "colab": {
          "base_uri": "https://localhost:8080/"
        }
      },
      "outputs": [
        {
          "output_type": "execute_result",
          "data": {
            "text/plain": [
              "numpy.ndarray"
            ]
          },
          "metadata": {},
          "execution_count": 6
        }
      ],
      "source": [
        "# datatype of data variable\n",
        "type(data)"
      ]
    },
    {
      "cell_type": "code",
      "execution_count": 7,
      "metadata": {
        "id": "8VfsQri1co8L",
        "outputId": "da2a8cce-2e55-4910-d452-2ac145cdada1",
        "colab": {
          "base_uri": "https://localhost:8080/"
        }
      },
      "outputs": [
        {
          "output_type": "execute_result",
          "data": {
            "text/plain": [
              "array([[1, 2],\n",
              "       [3, 4],\n",
              "       [5, 6]])"
            ]
          },
          "metadata": {},
          "execution_count": 7
        }
      ],
      "source": [
        "# value of data variable\n",
        "data"
      ]
    },
    {
      "cell_type": "code",
      "execution_count": 8,
      "metadata": {
        "id": "lEZhJjafco8L",
        "outputId": "3a5f0578-a387-4765-d50d-1e31bbfe7b75",
        "colab": {
          "base_uri": "https://localhost:8080/"
        }
      },
      "outputs": [
        {
          "output_type": "execute_result",
          "data": {
            "text/plain": [
              "2"
            ]
          },
          "metadata": {},
          "execution_count": 8
        }
      ],
      "source": [
        "# Number of dimensions (axes).\n",
        "data.ndim"
      ]
    },
    {
      "cell_type": "code",
      "execution_count": 9,
      "metadata": {
        "id": "oPYdfzE4co8L",
        "outputId": "a2b2080a-23dd-4985-dd70-3bd356307fd1",
        "colab": {
          "base_uri": "https://localhost:8080/"
        }
      },
      "outputs": [
        {
          "output_type": "execute_result",
          "data": {
            "text/plain": [
              "(3, 2)"
            ]
          },
          "metadata": {},
          "execution_count": 9
        }
      ],
      "source": [
        "# A tuple that contains the number of elements (i.e., the length) for each dimension (axis) of the array.\n",
        "data.shape"
      ]
    },
    {
      "cell_type": "code",
      "execution_count": 10,
      "metadata": {
        "id": "idbYXGrYco8L",
        "outputId": "a74f9b42-06c4-4239-8ea0-95edef47a92d",
        "colab": {
          "base_uri": "https://localhost:8080/"
        }
      },
      "outputs": [
        {
          "output_type": "execute_result",
          "data": {
            "text/plain": [
              "6"
            ]
          },
          "metadata": {},
          "execution_count": 10
        }
      ],
      "source": [
        "# The total number elements in the array.\n",
        "data.size"
      ]
    },
    {
      "cell_type": "code",
      "execution_count": 11,
      "metadata": {
        "id": "ee8VDyJaco8L",
        "outputId": "421bc86c-f8dd-4fbe-da8f-18f0fa75a599",
        "colab": {
          "base_uri": "https://localhost:8080/"
        }
      },
      "outputs": [
        {
          "output_type": "execute_result",
          "data": {
            "text/plain": [
              "dtype('int64')"
            ]
          },
          "metadata": {},
          "execution_count": 11
        }
      ],
      "source": [
        "# The data type of the elements in the array.\n",
        "data.dtype"
      ]
    },
    {
      "cell_type": "code",
      "execution_count": 12,
      "metadata": {
        "id": "c_xROJ4Gco8L",
        "outputId": "1175db8f-3934-425f-f183-d001e0e539aa",
        "colab": {
          "base_uri": "https://localhost:8080/"
        }
      },
      "outputs": [
        {
          "output_type": "execute_result",
          "data": {
            "text/plain": [
              "48"
            ]
          },
          "metadata": {},
          "execution_count": 12
        }
      ],
      "source": [
        "# Number of bytes used to store the data.\n",
        "data.nbytes"
      ]
    },
    {
      "cell_type": "markdown",
      "metadata": {
        "id": "8xZxoXnCco8L"
      },
      "source": [
        "## Data types\n",
        "\n",
        "The dtype attribute of the ndarray object describes the `data type` of each element in the array (remember, since NumPy\n",
        "arrays are homogeneous, all elements have the same data type)."
      ]
    },
    {
      "cell_type": "code",
      "execution_count": 14,
      "metadata": {
        "id": "2XmdYjrmco8L",
        "outputId": "36398cbe-0045-49c3-fa4d-86f6a588031c",
        "colab": {
          "base_uri": "https://localhost:8080/"
        }
      },
      "outputs": [
        {
          "output_type": "execute_result",
          "data": {
            "text/plain": [
              "array([1, 2, 3], dtype=int8)"
            ]
          },
          "metadata": {},
          "execution_count": 14
        }
      ],
      "source": [
        "# int are int8, int16, int32, int64  (Integers)\n",
        "np.array([1, 2, 3], dtype=np.int8)"
      ]
    },
    {
      "cell_type": "code",
      "execution_count": 15,
      "metadata": {
        "id": "r_ztHtl7co8L",
        "outputId": "51a4428a-76f5-4c52-b558-09d33d8c4a59",
        "colab": {
          "base_uri": "https://localhost:8080/"
        }
      },
      "outputs": [
        {
          "output_type": "execute_result",
          "data": {
            "text/plain": [
              "array([1, 2, 3], dtype=uint8)"
            ]
          },
          "metadata": {},
          "execution_count": 15
        }
      ],
      "source": [
        "# uint are uint8, uint16, uint32, uint64 (Unsigned (nonnegative) integers)\n",
        "np.array([1, 2, 3], dtype=np.uint8)"
      ]
    },
    {
      "cell_type": "code",
      "execution_count": 23,
      "metadata": {
        "outputId": "5d5bce00-11ab-464d-80a2-92847d09a106",
        "colab": {
          "base_uri": "https://localhost:8080/"
        },
        "id": "UR3CmZ_cf4P5"
      },
      "outputs": [
        {
          "output_type": "execute_result",
          "data": {
            "text/plain": [
              "array([ True,  True,  True])"
            ]
          },
          "metadata": {},
          "execution_count": 23
        }
      ],
      "source": [
        "# bool is bool_ (Boolean (True or False))\n",
        "np.array([1, 2, 3], dtype=np.bool_)"
      ]
    },
    {
      "cell_type": "code",
      "execution_count": 24,
      "metadata": {
        "id": "Q1bzRfiXgXA9",
        "outputId": "2ee7c035-d677-48f4-f94c-b94f1ee0460e",
        "colab": {
          "base_uri": "https://localhost:8080/"
        }
      },
      "outputs": [
        {
          "output_type": "execute_result",
          "data": {
            "text/plain": [
              "array([1., 2., 3.], dtype=float16)"
            ]
          },
          "metadata": {},
          "execution_count": 24
        }
      ],
      "source": [
        "# float are float16, float32, float64, float128 (Floating-point numbers)\n",
        "np.array([1, 2, 3], dtype=np.float16)"
      ]
    },
    {
      "cell_type": "code",
      "execution_count": 25,
      "metadata": {
        "colab": {
          "base_uri": "https://localhost:8080/"
        },
        "id": "lyddNiKUco8L",
        "outputId": "45e4307a-b77e-49bd-f9a9-e39c2be5c62c"
      },
      "outputs": [
        {
          "output_type": "execute_result",
          "data": {
            "text/plain": [
              "array([1.+0.j, 2.+0.j, 3.+0.j], dtype=complex64)"
            ]
          },
          "metadata": {},
          "execution_count": 25
        }
      ],
      "source": [
        "# complex are complex64, complex128, complex256 (Complex-valued floating-point numbers)\n",
        "np.array([1, 2, 3], dtype=np.complex64)"
      ]
    },
    {
      "cell_type": "markdown",
      "source": [
        "Once a NumPy array is created, its `dtype` cannot be changed, other than by creating\n",
        "a new copy with type-casted array values. Typecasting an array is straightforward and\n",
        "can be done using either the `np.array` function"
      ],
      "metadata": {
        "id": "wRiJdi3Ofo7H"
      }
    },
    {
      "cell_type": "code",
      "execution_count": 26,
      "metadata": {
        "id": "m7wRSdhIco8L"
      },
      "outputs": [],
      "source": [
        "# Initializing a variable using np.array with dtype function\n",
        "data = np.array([1, 2, 3], dtype=np.float16)"
      ]
    },
    {
      "cell_type": "code",
      "execution_count": 19,
      "metadata": {
        "id": "_bETPyxdco8M",
        "outputId": "e1d7fed1-9438-483b-e106-78bfda51985f",
        "colab": {
          "base_uri": "https://localhost:8080/"
        }
      },
      "outputs": [
        {
          "output_type": "execute_result",
          "data": {
            "text/plain": [
              "array([1., 2., 3.], dtype=float16)"
            ]
          },
          "metadata": {},
          "execution_count": 19
        }
      ],
      "source": [
        "data"
      ]
    },
    {
      "cell_type": "code",
      "execution_count": 20,
      "metadata": {
        "id": "mlPjzP4Eco8M",
        "outputId": "f91a7c60-da7a-4ba4-aa7d-55b89e64c56b",
        "colab": {
          "base_uri": "https://localhost:8080/"
        }
      },
      "outputs": [
        {
          "output_type": "execute_result",
          "data": {
            "text/plain": [
              "dtype('float16')"
            ]
          },
          "metadata": {},
          "execution_count": 20
        }
      ],
      "source": [
        "data.dtype"
      ]
    },
    {
      "cell_type": "code",
      "execution_count": 27,
      "metadata": {
        "id": "AV28Wk0Wco8M"
      },
      "outputs": [],
      "source": [
        "# Typecasting using np.array with dtype function\n",
        "data = np.array([1, 2, 3], dtype=np.int8)"
      ]
    },
    {
      "cell_type": "code",
      "execution_count": 28,
      "metadata": {
        "id": "CO9FKw8_co8M",
        "outputId": "8ad528c1-519b-4e92-e3e4-d38f90211ce8",
        "colab": {
          "base_uri": "https://localhost:8080/"
        }
      },
      "outputs": [
        {
          "output_type": "execute_result",
          "data": {
            "text/plain": [
              "dtype('int8')"
            ]
          },
          "metadata": {},
          "execution_count": 28
        }
      ],
      "source": [
        "data.dtype"
      ]
    },
    {
      "cell_type": "code",
      "execution_count": 29,
      "metadata": {
        "id": "QGQPUx1rco8M",
        "outputId": "d24bc557-7493-49c3-a745-25c92e0acb89",
        "colab": {
          "base_uri": "https://localhost:8080/"
        }
      },
      "outputs": [
        {
          "output_type": "execute_result",
          "data": {
            "text/plain": [
              "array([1, 2, 3], dtype=int8)"
            ]
          },
          "metadata": {},
          "execution_count": 29
        }
      ],
      "source": [
        "data"
      ]
    },
    {
      "cell_type": "markdown",
      "source": [
        "Or typecasting by using the `astype` method of the ndarray class"
      ],
      "metadata": {
        "id": "CremHfRWho8Z"
      }
    },
    {
      "cell_type": "code",
      "execution_count": 31,
      "metadata": {
        "id": "2WUdkX57co8M"
      },
      "outputs": [],
      "source": [
        "# Initializing a variable using np.array with dtype function\n",
        "data = np.array([1, 2, 3], dtype=np.float32)"
      ]
    },
    {
      "cell_type": "code",
      "execution_count": 32,
      "metadata": {
        "id": "0c1aXbTnco8M",
        "outputId": "3d4930b2-af53-4030-f0f2-96cbab93b505",
        "colab": {
          "base_uri": "https://localhost:8080/"
        }
      },
      "outputs": [
        {
          "output_type": "execute_result",
          "data": {
            "text/plain": [
              "array([1., 2., 3.], dtype=float32)"
            ]
          },
          "metadata": {},
          "execution_count": 32
        }
      ],
      "source": [
        "data"
      ]
    },
    {
      "cell_type": "code",
      "execution_count": 34,
      "metadata": {
        "id": "GTagWd68co8M",
        "outputId": "44aad213-c13a-465c-baac-4aba546a8dcf",
        "colab": {
          "base_uri": "https://localhost:8080/"
        }
      },
      "outputs": [
        {
          "output_type": "execute_result",
          "data": {
            "text/plain": [
              "array([1, 2, 3], dtype=int8)"
            ]
          },
          "metadata": {},
          "execution_count": 34
        }
      ],
      "source": [
        "#Typecasting using astype method\n",
        "data.astype(np.int8)"
      ]
    },
    {
      "cell_type": "markdown",
      "source": [
        "When computing with NumPy arrays, the data type might get promoted from one\n",
        "type to another, if required by the operation."
      ],
      "metadata": {
        "id": "CnszOuXkiPme"
      }
    },
    {
      "cell_type": "code",
      "execution_count": 35,
      "metadata": {
        "id": "PgN86bu5co8M"
      },
      "outputs": [],
      "source": [
        "d1 = np.array([1, 2, 3], dtype=float)"
      ]
    },
    {
      "cell_type": "code",
      "execution_count": 36,
      "metadata": {
        "id": "sBx486ezco8M"
      },
      "outputs": [],
      "source": [
        "d2 = np.array([1, 2, 3], dtype=complex)"
      ]
    },
    {
      "cell_type": "code",
      "execution_count": 37,
      "metadata": {
        "id": "x-YQawSgco8M",
        "outputId": "0b664528-842f-4fff-9795-4387360d82da",
        "colab": {
          "base_uri": "https://localhost:8080/"
        }
      },
      "outputs": [
        {
          "output_type": "execute_result",
          "data": {
            "text/plain": [
              "array([2.+0.j, 4.+0.j, 6.+0.j])"
            ]
          },
          "metadata": {},
          "execution_count": 37
        }
      ],
      "source": [
        "d1 + d2"
      ]
    },
    {
      "cell_type": "code",
      "execution_count": 38,
      "metadata": {
        "id": "8k3NIPbVco8M",
        "outputId": "aed7eed6-e75b-496a-a062-6489eef2a9da",
        "colab": {
          "base_uri": "https://localhost:8080/"
        }
      },
      "outputs": [
        {
          "output_type": "execute_result",
          "data": {
            "text/plain": [
              "dtype('complex128')"
            ]
          },
          "metadata": {},
          "execution_count": 38
        }
      ],
      "source": [
        "(d1 + d2).dtype"
      ]
    },
    {
      "cell_type": "markdown",
      "source": [
        "In some cases, depending on the application and its requirements, it is essential to\n",
        "create arrays with data type appropriately set to, for example, `int` or `complex`. The default\n",
        "type is `float`."
      ],
      "metadata": {
        "id": "7PPgiy1-iW13"
      }
    },
    {
      "cell_type": "code",
      "execution_count": 39,
      "metadata": {
        "id": "qyttFV2Fco8M",
        "outputId": "be4a09ca-9825-4a90-9752-ed12a426c247",
        "colab": {
          "base_uri": "https://localhost:8080/"
        }
      },
      "outputs": [
        {
          "output_type": "stream",
          "name": "stderr",
          "text": [
            "<ipython-input-39-18cc2be45d00>:1: RuntimeWarning: invalid value encountered in sqrt\n",
            "  np.sqrt(np.array([-1, 0, 1]))\n"
          ]
        },
        {
          "output_type": "execute_result",
          "data": {
            "text/plain": [
              "array([nan,  0.,  1.])"
            ]
          },
          "metadata": {},
          "execution_count": 39
        }
      ],
      "source": [
        "np.sqrt(np.array([-1, 0, 1]))"
      ]
    },
    {
      "cell_type": "code",
      "execution_count": 40,
      "metadata": {
        "id": "vannDTbZco8N",
        "outputId": "9b6a6349-dd1a-4c74-936c-427710d39bca",
        "colab": {
          "base_uri": "https://localhost:8080/"
        }
      },
      "outputs": [
        {
          "output_type": "execute_result",
          "data": {
            "text/plain": [
              "array([0.+1.j, 0.+0.j, 1.+0.j])"
            ]
          },
          "metadata": {},
          "execution_count": 40
        }
      ],
      "source": [
        "np.sqrt(np.array([-1, 0, 1], dtype=complex))"
      ]
    },
    {
      "cell_type": "markdown",
      "source": [
        "Using the `np.sqrt` function to compute the square root of each element in\n",
        "an array gives different results depending on the data type of the array. Only when the\n",
        "data type of the array is complex is the square root of –1 resulting in the imaginary unit\n",
        "(denoted as 1.j in Python)."
      ],
      "metadata": {
        "id": "8Sg8qz3BivoB"
      }
    },
    {
      "cell_type": "markdown",
      "metadata": {
        "id": "7jQuhWZsco8N"
      },
      "source": [
        "### Real and imaginary parts\n",
        "\n",
        "Regardless of the value of the dtype attribute, all NumPy array instances have the attributes\n",
        "`real` and `imag` for extracting the real and imaginary parts of the array.\n",
        "\n",
        "The same functionality is also provided by the functions `np.real` and `np.imag`,\n",
        "which also can be applied to other array-like objects, such as Python lists."
      ]
    },
    {
      "cell_type": "code",
      "execution_count": 41,
      "metadata": {
        "id": "4MDM_2e9co8N"
      },
      "outputs": [],
      "source": [
        "data = np.array([1, 2, 3], dtype=complex)"
      ]
    },
    {
      "cell_type": "code",
      "execution_count": 42,
      "metadata": {
        "id": "dN7R-NN7co8N",
        "outputId": "e5fbe2a2-3f32-4927-dbd3-e842ea011f08",
        "colab": {
          "base_uri": "https://localhost:8080/"
        }
      },
      "outputs": [
        {
          "output_type": "execute_result",
          "data": {
            "text/plain": [
              "array([1.+0.j, 2.+0.j, 3.+0.j])"
            ]
          },
          "metadata": {},
          "execution_count": 42
        }
      ],
      "source": [
        "data"
      ]
    },
    {
      "cell_type": "code",
      "execution_count": 43,
      "metadata": {
        "id": "v6cg1pdkco8N",
        "outputId": "e7df4065-8b6f-4a26-ddbc-415baa3dd8b9",
        "colab": {
          "base_uri": "https://localhost:8080/"
        }
      },
      "outputs": [
        {
          "output_type": "execute_result",
          "data": {
            "text/plain": [
              "array([1., 2., 3.])"
            ]
          },
          "metadata": {},
          "execution_count": 43
        }
      ],
      "source": [
        "data.real"
      ]
    },
    {
      "cell_type": "code",
      "execution_count": 44,
      "metadata": {
        "id": "ItiazbR6co8N",
        "outputId": "507873e3-d8fb-48f3-cdd0-9cd697b40647",
        "colab": {
          "base_uri": "https://localhost:8080/"
        }
      },
      "outputs": [
        {
          "output_type": "execute_result",
          "data": {
            "text/plain": [
              "array([0., 0., 0.])"
            ]
          },
          "metadata": {},
          "execution_count": 44
        }
      ],
      "source": [
        "data.imag"
      ]
    },
    {
      "cell_type": "code",
      "source": [
        "np.real(data)"
      ],
      "metadata": {
        "id": "EEeH_FS8jx2J",
        "outputId": "c29e7921-ca3a-4952-a69f-6aff516991e6",
        "colab": {
          "base_uri": "https://localhost:8080/"
        }
      },
      "execution_count": 45,
      "outputs": [
        {
          "output_type": "execute_result",
          "data": {
            "text/plain": [
              "array([1., 2., 3.])"
            ]
          },
          "metadata": {},
          "execution_count": 45
        }
      ]
    },
    {
      "cell_type": "code",
      "source": [
        "np.imag(data)"
      ],
      "metadata": {
        "id": "5Xz8p_BtkFUH",
        "outputId": "fe4d5f27-dafc-4938-e52c-80dd3f33b74e",
        "colab": {
          "base_uri": "https://localhost:8080/"
        }
      },
      "execution_count": 47,
      "outputs": [
        {
          "output_type": "execute_result",
          "data": {
            "text/plain": [
              "array([0., 0., 0.])"
            ]
          },
          "metadata": {},
          "execution_count": 47
        }
      ]
    },
    {
      "cell_type": "markdown",
      "metadata": {
        "id": "JgCl7Aanco8R"
      },
      "source": [
        "## Creating arrays\n",
        "\n",
        "Arrays can be generated in a number of ways, depending on their properties and\n",
        "the applications they are used for."
      ]
    },
    {
      "cell_type": "markdown",
      "metadata": {
        "id": "0GgAU0Xqco8R"
      },
      "source": [
        "### Arrays created from lists and other array-like objects\n",
        "\n",
        "This method is obviously limited\n",
        "to small arrays. In many situations it is necessary to generate arrays with elements that\n",
        "follow some given rule, such as filled with constant values, increasing integers, uniformly\n",
        "spaced numbers, random numbers, etc. In other cases we might need to create arrays\n",
        "from data stored in a file.\n"
      ]
    },
    {
      "cell_type": "markdown",
      "source": [
        "Using the `np.array` function, NumPy arrays can be constructed from explicit Python\n",
        "lists, iterable expressions, and other array-like objects (such as other ndarray instances)"
      ],
      "metadata": {
        "id": "s8XKqBa6lFUa"
      }
    },
    {
      "cell_type": "code",
      "execution_count": 48,
      "metadata": {
        "id": "q2Mt31mCco8R",
        "outputId": "9e61874c-6cdf-43ab-8b0c-f56c6ffc9e06",
        "colab": {
          "base_uri": "https://localhost:8080/"
        }
      },
      "outputs": [
        {
          "output_type": "execute_result",
          "data": {
            "text/plain": [
              "array([1, 2, 3, 4])"
            ]
          },
          "metadata": {},
          "execution_count": 48
        }
      ],
      "source": [
        "# to create a one-dimensional array from a Python list\n",
        "np.array([1, 2, 3, 4])"
      ]
    },
    {
      "cell_type": "code",
      "execution_count": 49,
      "metadata": {
        "id": "X2qAM3kxco8R",
        "outputId": "3b45a008-55f7-4569-aa35-dd68ed0d332c",
        "colab": {
          "base_uri": "https://localhost:8080/"
        }
      },
      "outputs": [
        {
          "output_type": "execute_result",
          "data": {
            "text/plain": [
              "1"
            ]
          },
          "metadata": {},
          "execution_count": 49
        }
      ],
      "source": [
        "data.ndim"
      ]
    },
    {
      "cell_type": "code",
      "execution_count": 50,
      "metadata": {
        "id": "wGP2MKbPco8R",
        "outputId": "6cc69cd5-c311-4cbb-9f65-9328ec5fe6c3",
        "colab": {
          "base_uri": "https://localhost:8080/"
        }
      },
      "outputs": [
        {
          "output_type": "execute_result",
          "data": {
            "text/plain": [
              "(3,)"
            ]
          },
          "metadata": {},
          "execution_count": 50
        }
      ],
      "source": [
        "data.shape"
      ]
    },
    {
      "cell_type": "code",
      "execution_count": 54,
      "metadata": {
        "id": "W5D0rAF9co8R"
      },
      "outputs": [],
      "source": [
        "# To create a two-dimensional array with the same data as in the previous\n",
        "# example, we can use a nested Python list:\n",
        "data2=np.array([[1, 2], [3, 4]])"
      ]
    },
    {
      "cell_type": "code",
      "execution_count": 55,
      "metadata": {
        "id": "G1tZ99GDco8R",
        "outputId": "2c78ba16-76c9-4a99-c835-5dad4096c855",
        "colab": {
          "base_uri": "https://localhost:8080/"
        }
      },
      "outputs": [
        {
          "output_type": "execute_result",
          "data": {
            "text/plain": [
              "2"
            ]
          },
          "metadata": {},
          "execution_count": 55
        }
      ],
      "source": [
        "data2.ndim"
      ]
    },
    {
      "cell_type": "code",
      "execution_count": 56,
      "metadata": {
        "id": "Fe27NZtJco8R",
        "outputId": "8e1595dc-75c8-402f-ec99-589d306b0a3a",
        "colab": {
          "base_uri": "https://localhost:8080/"
        }
      },
      "outputs": [
        {
          "output_type": "execute_result",
          "data": {
            "text/plain": [
              "(2, 2)"
            ]
          },
          "metadata": {},
          "execution_count": 56
        }
      ],
      "source": [
        "data2.shape"
      ]
    },
    {
      "cell_type": "markdown",
      "metadata": {
        "id": "u20Qn4Z8co8R"
      },
      "source": [
        "### Arrays filled with constant values"
      ]
    },
    {
      "cell_type": "code",
      "execution_count": null,
      "metadata": {
        "id": "n0ja-Y_dco8R"
      },
      "outputs": [],
      "source": [
        "np.zeros((2, 3))"
      ]
    },
    {
      "cell_type": "code",
      "execution_count": null,
      "metadata": {
        "id": "HBIU3t5uco8S"
      },
      "outputs": [],
      "source": [
        "np.ones(4)"
      ]
    },
    {
      "cell_type": "code",
      "execution_count": null,
      "metadata": {
        "id": "OyC_f7Agco8S"
      },
      "outputs": [],
      "source": [
        "data = np.ones(4)"
      ]
    },
    {
      "cell_type": "code",
      "execution_count": null,
      "metadata": {
        "id": "qFeDZNptco8S"
      },
      "outputs": [],
      "source": [
        "data.dtype"
      ]
    },
    {
      "cell_type": "code",
      "execution_count": null,
      "metadata": {
        "id": "tRWLATezco8S"
      },
      "outputs": [],
      "source": [
        "data = np.ones(4, dtype=np.int64)"
      ]
    },
    {
      "cell_type": "code",
      "execution_count": null,
      "metadata": {
        "id": "l51QD_W3co8S"
      },
      "outputs": [],
      "source": [
        "data.dtype"
      ]
    },
    {
      "cell_type": "code",
      "execution_count": null,
      "metadata": {
        "id": "cN_PQwGJco8S"
      },
      "outputs": [],
      "source": [
        "x1 = 5.4 * np.ones(10)"
      ]
    },
    {
      "cell_type": "code",
      "execution_count": null,
      "metadata": {
        "id": "FZJIwQqVco8S"
      },
      "outputs": [],
      "source": [
        "x2 = np.full(10, 5.4)"
      ]
    },
    {
      "cell_type": "code",
      "execution_count": null,
      "metadata": {
        "id": "B6aJAraRco8S"
      },
      "outputs": [],
      "source": [
        "x1 = np.empty(5)"
      ]
    },
    {
      "cell_type": "code",
      "execution_count": null,
      "metadata": {
        "id": "gEOLlVrvco8S"
      },
      "outputs": [],
      "source": [
        "x1.fill(3.0)"
      ]
    },
    {
      "cell_type": "code",
      "execution_count": null,
      "metadata": {
        "id": "uMDLY57uco8S"
      },
      "outputs": [],
      "source": [
        "x1"
      ]
    },
    {
      "cell_type": "code",
      "execution_count": null,
      "metadata": {
        "id": "T6FNapqEco8S"
      },
      "outputs": [],
      "source": [
        "x2 = np.full(5, 3.0)"
      ]
    },
    {
      "cell_type": "code",
      "execution_count": null,
      "metadata": {
        "id": "VpPDmLHHco8S"
      },
      "outputs": [],
      "source": [
        "x2"
      ]
    },
    {
      "cell_type": "markdown",
      "metadata": {
        "id": "KiE725Gnco8T"
      },
      "source": [
        "### Arrays filled with incremental sequences"
      ]
    },
    {
      "cell_type": "code",
      "execution_count": null,
      "metadata": {
        "id": "aigHsalDco8T"
      },
      "outputs": [],
      "source": [
        "np.arange(0.0, 10, 1)"
      ]
    },
    {
      "cell_type": "code",
      "execution_count": null,
      "metadata": {
        "id": "fjK1lJ66co8T"
      },
      "outputs": [],
      "source": [
        "np.linspace(0, 10, 11)"
      ]
    },
    {
      "cell_type": "markdown",
      "metadata": {
        "id": "z_UkAQhfco8T"
      },
      "source": [
        "### Arrays filled with logarithmic sequences"
      ]
    },
    {
      "cell_type": "code",
      "execution_count": null,
      "metadata": {
        "id": "PPSd2JIaco8T"
      },
      "outputs": [],
      "source": [
        "np.logspace(0, 2, 5)  # 5 data points between 10**0=1 to 10**2=100"
      ]
    },
    {
      "cell_type": "markdown",
      "metadata": {
        "id": "zQywaf6ico8T"
      },
      "source": [
        "### Mesh-grid arrays"
      ]
    },
    {
      "cell_type": "code",
      "execution_count": null,
      "metadata": {
        "id": "E904ClXKco8T"
      },
      "outputs": [],
      "source": [
        "x = np.array([-1, 0, 1])"
      ]
    },
    {
      "cell_type": "code",
      "execution_count": null,
      "metadata": {
        "id": "7PXwxm_dco8T"
      },
      "outputs": [],
      "source": [
        "y = np.array([-2, 0, 2])"
      ]
    },
    {
      "cell_type": "code",
      "execution_count": null,
      "metadata": {
        "id": "seOZZhrpco8T"
      },
      "outputs": [],
      "source": [
        "X, Y = np.meshgrid(x, y)"
      ]
    },
    {
      "cell_type": "code",
      "execution_count": null,
      "metadata": {
        "id": "JTzpok2Xco8T"
      },
      "outputs": [],
      "source": [
        "X"
      ]
    },
    {
      "cell_type": "code",
      "execution_count": null,
      "metadata": {
        "id": "2mD_R60qco8T"
      },
      "outputs": [],
      "source": [
        "Y"
      ]
    },
    {
      "cell_type": "code",
      "execution_count": null,
      "metadata": {
        "id": "s2jJAdveco8T"
      },
      "outputs": [],
      "source": [
        "Z = (X + Y) ** 2"
      ]
    },
    {
      "cell_type": "code",
      "execution_count": null,
      "metadata": {
        "id": "ILwGv0zBco8T"
      },
      "outputs": [],
      "source": [
        "Z"
      ]
    },
    {
      "cell_type": "markdown",
      "metadata": {
        "id": "QSOAVVkYco8U"
      },
      "source": [
        "### Creating uninitialized arrays"
      ]
    },
    {
      "cell_type": "code",
      "execution_count": null,
      "metadata": {
        "id": "WONJgItVco8U"
      },
      "outputs": [],
      "source": [
        "np.empty(3, dtype=np.float)"
      ]
    },
    {
      "cell_type": "markdown",
      "metadata": {
        "id": "npFFNk5Oco8U"
      },
      "source": [
        "### Creating arrays with properties of other arrays"
      ]
    },
    {
      "cell_type": "code",
      "execution_count": null,
      "metadata": {
        "id": "Lxo4dVIHco8U"
      },
      "outputs": [],
      "source": [
        "def f(x):\n",
        "    y = np.ones_like(x)\n",
        "    # compute with x and y\n",
        "    return y"
      ]
    },
    {
      "cell_type": "markdown",
      "metadata": {
        "id": "tjqOSlT4co8U"
      },
      "source": [
        "### Creating matrix arrays"
      ]
    },
    {
      "cell_type": "code",
      "execution_count": null,
      "metadata": {
        "id": "a2JOVraoco8U"
      },
      "outputs": [],
      "source": [
        "np.identity(4)"
      ]
    },
    {
      "cell_type": "code",
      "execution_count": null,
      "metadata": {
        "id": "HnJPwtOico8U"
      },
      "outputs": [],
      "source": [
        "np.eye(3, k=1)"
      ]
    },
    {
      "cell_type": "code",
      "execution_count": null,
      "metadata": {
        "id": "Dly6F2bhco8U"
      },
      "outputs": [],
      "source": [
        "np.eye(3, k=-1)"
      ]
    },
    {
      "cell_type": "code",
      "execution_count": null,
      "metadata": {
        "id": "hUG7xFC3co8U"
      },
      "outputs": [],
      "source": [
        "np.diag(np.arange(0, 20, 5))"
      ]
    },
    {
      "cell_type": "markdown",
      "metadata": {
        "id": "x5mCpSOlco8U"
      },
      "source": [
        "## Index and slicing"
      ]
    },
    {
      "cell_type": "markdown",
      "metadata": {
        "id": "M9-hUNtKco8U"
      },
      "source": [
        "### One-dimensional arrays"
      ]
    },
    {
      "cell_type": "code",
      "execution_count": null,
      "metadata": {
        "id": "p1t0fwzcco8V"
      },
      "outputs": [],
      "source": [
        "a = np.arange(0, 11)"
      ]
    },
    {
      "cell_type": "code",
      "execution_count": null,
      "metadata": {
        "id": "2hpJankdco8V"
      },
      "outputs": [],
      "source": [
        "a"
      ]
    },
    {
      "cell_type": "code",
      "execution_count": null,
      "metadata": {
        "id": "HP82V5DYco8V"
      },
      "outputs": [],
      "source": [
        "a[0]  # the first element"
      ]
    },
    {
      "cell_type": "code",
      "execution_count": null,
      "metadata": {
        "id": "qqzN9Fu3co8V"
      },
      "outputs": [],
      "source": [
        "a[-1] # the last element"
      ]
    },
    {
      "cell_type": "code",
      "execution_count": null,
      "metadata": {
        "id": "-mSmneRaco8V"
      },
      "outputs": [],
      "source": [
        "a[4]  # the fifth element, at index 4"
      ]
    },
    {
      "cell_type": "code",
      "execution_count": null,
      "metadata": {
        "id": "9XH8EEHsco8V"
      },
      "outputs": [],
      "source": [
        "a[1:-1]"
      ]
    },
    {
      "cell_type": "code",
      "execution_count": null,
      "metadata": {
        "id": "byhKhyBuco8V"
      },
      "outputs": [],
      "source": [
        "a[1:-1:2]"
      ]
    },
    {
      "cell_type": "code",
      "execution_count": null,
      "metadata": {
        "id": "DQMA_oybco8V"
      },
      "outputs": [],
      "source": [
        "a[:5]"
      ]
    },
    {
      "cell_type": "code",
      "execution_count": null,
      "metadata": {
        "id": "1meEcC0Kco8V"
      },
      "outputs": [],
      "source": [
        "a[-5:]"
      ]
    },
    {
      "cell_type": "code",
      "execution_count": null,
      "metadata": {
        "id": "5PUlYQ9Sco8V"
      },
      "outputs": [],
      "source": [
        "a[::-2]\n"
      ]
    },
    {
      "cell_type": "markdown",
      "metadata": {
        "id": "Z2Lva0pFco8V"
      },
      "source": [
        "## Multidimensional arrays"
      ]
    },
    {
      "cell_type": "code",
      "execution_count": null,
      "metadata": {
        "id": "vf7osuQOco8V"
      },
      "outputs": [],
      "source": [
        "f = lambda m, n: n + 10 * m"
      ]
    },
    {
      "cell_type": "code",
      "execution_count": null,
      "metadata": {
        "id": "24xCXAHAco8V"
      },
      "outputs": [],
      "source": [
        "A = np.fromfunction(f, (6, 6), dtype=int)"
      ]
    },
    {
      "cell_type": "code",
      "execution_count": null,
      "metadata": {
        "id": "8y1pesbdco8V"
      },
      "outputs": [],
      "source": [
        "A"
      ]
    },
    {
      "cell_type": "code",
      "execution_count": null,
      "metadata": {
        "id": "iCPDPJ-Ico8W"
      },
      "outputs": [],
      "source": [
        "A[:, 1]  # the second column"
      ]
    },
    {
      "cell_type": "code",
      "execution_count": null,
      "metadata": {
        "id": "_6jdIpHcco8W"
      },
      "outputs": [],
      "source": [
        "A[1, :]  # the second row"
      ]
    },
    {
      "cell_type": "code",
      "execution_count": null,
      "metadata": {
        "id": "pGJ0ShHmco8W"
      },
      "outputs": [],
      "source": [
        "A[:3, :3]  # upper half diagonal block matrix"
      ]
    },
    {
      "cell_type": "code",
      "execution_count": null,
      "metadata": {
        "id": "Dq6FT_fyco8W"
      },
      "outputs": [],
      "source": [
        "A[3:, :3]  # lower left off-diagonal block matrix"
      ]
    },
    {
      "cell_type": "code",
      "execution_count": null,
      "metadata": {
        "id": "ytk7T79Lco8W"
      },
      "outputs": [],
      "source": [
        "A[::2, ::2]  # every second element starting from 0, 0"
      ]
    },
    {
      "cell_type": "code",
      "execution_count": null,
      "metadata": {
        "id": "luQ6-evsco8W"
      },
      "outputs": [],
      "source": [
        "A[1::2, 1::3]  # every second element starting from 1, 1"
      ]
    },
    {
      "cell_type": "markdown",
      "metadata": {
        "id": "lrsZ8ecsco8W"
      },
      "source": [
        "### Views"
      ]
    },
    {
      "cell_type": "code",
      "execution_count": null,
      "metadata": {
        "id": "takHpL3Uco8W"
      },
      "outputs": [],
      "source": [
        "B = A[1:5, 1:5]"
      ]
    },
    {
      "cell_type": "code",
      "execution_count": null,
      "metadata": {
        "id": "q8Zfgt6yco8W"
      },
      "outputs": [],
      "source": [
        "B"
      ]
    },
    {
      "cell_type": "code",
      "execution_count": null,
      "metadata": {
        "id": "vkIrKUJZco8W"
      },
      "outputs": [],
      "source": [
        "B[:, :] = 0"
      ]
    },
    {
      "cell_type": "code",
      "execution_count": null,
      "metadata": {
        "id": "IF8rAqgpco8W"
      },
      "outputs": [],
      "source": [
        "A"
      ]
    },
    {
      "cell_type": "code",
      "execution_count": null,
      "metadata": {
        "id": "y-K3DTxnco8W"
      },
      "outputs": [],
      "source": [
        "C = B[1:3, 1:3].copy()"
      ]
    },
    {
      "cell_type": "code",
      "execution_count": null,
      "metadata": {
        "id": "xfvcCZ1Kco8X"
      },
      "outputs": [],
      "source": [
        "C"
      ]
    },
    {
      "cell_type": "code",
      "execution_count": null,
      "metadata": {
        "id": "TCjBvSw4co8X"
      },
      "outputs": [],
      "source": [
        "C[:, :] = 1  # this does not affect B since C is a copy of the view B[1:3, 1:3]"
      ]
    },
    {
      "cell_type": "code",
      "execution_count": null,
      "metadata": {
        "id": "tGU9DsIzco8X"
      },
      "outputs": [],
      "source": [
        "C"
      ]
    },
    {
      "cell_type": "code",
      "execution_count": null,
      "metadata": {
        "id": "uY4x_FxNco8X"
      },
      "outputs": [],
      "source": [
        "B"
      ]
    },
    {
      "cell_type": "markdown",
      "metadata": {
        "id": "oiTwgYQico8X"
      },
      "source": [
        "### Fancy indexing and Boolean-valued indexing"
      ]
    },
    {
      "cell_type": "code",
      "execution_count": null,
      "metadata": {
        "id": "bFrLgSNJco8X"
      },
      "outputs": [],
      "source": [
        "A = np.linspace(0, 1, 11)"
      ]
    },
    {
      "cell_type": "code",
      "execution_count": null,
      "metadata": {
        "id": "DFHyLKeUco8X"
      },
      "outputs": [],
      "source": [
        "A[np.array([0, 2, 4])]"
      ]
    },
    {
      "cell_type": "code",
      "execution_count": null,
      "metadata": {
        "id": "c9ZD6FaAco8X"
      },
      "outputs": [],
      "source": [
        "A[[0, 2, 4]]"
      ]
    },
    {
      "cell_type": "code",
      "execution_count": null,
      "metadata": {
        "id": "uRfYTr8Nco8X"
      },
      "outputs": [],
      "source": [
        "A > 0.5"
      ]
    },
    {
      "cell_type": "code",
      "execution_count": null,
      "metadata": {
        "id": "b-ruuFN1co8X"
      },
      "outputs": [],
      "source": [
        "A[A > 0.5]"
      ]
    },
    {
      "cell_type": "code",
      "execution_count": null,
      "metadata": {
        "id": "twpyJJ-zco8X"
      },
      "outputs": [],
      "source": [
        "A = np.arange(10)"
      ]
    },
    {
      "cell_type": "code",
      "execution_count": null,
      "metadata": {
        "id": "xwK-jlCfco8X"
      },
      "outputs": [],
      "source": [
        "A"
      ]
    },
    {
      "cell_type": "code",
      "execution_count": null,
      "metadata": {
        "id": "APKSfCM2co8X"
      },
      "outputs": [],
      "source": [
        "indices = [2, 4, 6]"
      ]
    },
    {
      "cell_type": "code",
      "execution_count": null,
      "metadata": {
        "id": "ca3B8OuDco8Y"
      },
      "outputs": [],
      "source": [
        "B = A[indices]"
      ]
    },
    {
      "cell_type": "code",
      "execution_count": null,
      "metadata": {
        "id": "nuhy5V0Kco8Y"
      },
      "outputs": [],
      "source": [
        "B[0] = -1  # this does not affect A"
      ]
    },
    {
      "cell_type": "code",
      "execution_count": null,
      "metadata": {
        "id": "Y5CEiZmyco8Y"
      },
      "outputs": [],
      "source": [
        "A"
      ]
    },
    {
      "cell_type": "code",
      "execution_count": null,
      "metadata": {
        "id": "t0mQRB-cco8Y"
      },
      "outputs": [],
      "source": [
        "A[indices] = -1"
      ]
    },
    {
      "cell_type": "code",
      "execution_count": null,
      "metadata": {
        "id": "mO4BY1ZIco8Y"
      },
      "outputs": [],
      "source": [
        "A"
      ]
    },
    {
      "cell_type": "code",
      "execution_count": null,
      "metadata": {
        "id": "ns7Ve5nfco8Y"
      },
      "outputs": [],
      "source": [
        "A = np.arange(10)"
      ]
    },
    {
      "cell_type": "code",
      "execution_count": null,
      "metadata": {
        "id": "BRFT-mCIco8Y"
      },
      "outputs": [],
      "source": [
        "B = A[A > 5]"
      ]
    },
    {
      "cell_type": "code",
      "execution_count": null,
      "metadata": {
        "id": "GOgGvD2Jco8Y"
      },
      "outputs": [],
      "source": [
        "B[0] = -1  # this does not affect A"
      ]
    },
    {
      "cell_type": "code",
      "execution_count": null,
      "metadata": {
        "id": "fXMPf0eIco8Y"
      },
      "outputs": [],
      "source": [
        "A"
      ]
    },
    {
      "cell_type": "code",
      "execution_count": null,
      "metadata": {
        "id": "StfAjiAqco8Y"
      },
      "outputs": [],
      "source": [
        "A[A > 5] = -1"
      ]
    },
    {
      "cell_type": "code",
      "execution_count": null,
      "metadata": {
        "id": "jcDParThco8Y"
      },
      "outputs": [],
      "source": [
        "A"
      ]
    },
    {
      "cell_type": "markdown",
      "metadata": {
        "id": "b9gsL-hHco8Y"
      },
      "source": [
        "## Reshaping and resizing"
      ]
    },
    {
      "cell_type": "code",
      "execution_count": null,
      "metadata": {
        "id": "CfDi-BTlco8Y"
      },
      "outputs": [],
      "source": [
        "data = np.array([[1, 2], [3, 4]])"
      ]
    },
    {
      "cell_type": "code",
      "execution_count": null,
      "metadata": {
        "id": "uQJYfBScco8Y"
      },
      "outputs": [],
      "source": [
        "np.reshape(data, (1, 4))"
      ]
    },
    {
      "cell_type": "code",
      "execution_count": null,
      "metadata": {
        "id": "fQIMx30Fco8Z"
      },
      "outputs": [],
      "source": [
        "data.reshape(4)"
      ]
    },
    {
      "cell_type": "code",
      "execution_count": null,
      "metadata": {
        "id": "Fi0Xn5GTco8Z"
      },
      "outputs": [],
      "source": [
        "data = np.array([[1, 2], [3, 4]])"
      ]
    },
    {
      "cell_type": "code",
      "execution_count": null,
      "metadata": {
        "id": "yYW1wUwOco8Z"
      },
      "outputs": [],
      "source": [
        "data"
      ]
    },
    {
      "cell_type": "code",
      "execution_count": null,
      "metadata": {
        "id": "7_mD3KLico8Z"
      },
      "outputs": [],
      "source": [
        "data.flatten()"
      ]
    },
    {
      "cell_type": "code",
      "execution_count": null,
      "metadata": {
        "id": "Eov_sb38co8Z"
      },
      "outputs": [],
      "source": [
        "data.flatten().shape"
      ]
    },
    {
      "cell_type": "code",
      "execution_count": null,
      "metadata": {
        "id": "zyEyp9sKco8Z"
      },
      "outputs": [],
      "source": [
        "data = np.arange(0, 5)"
      ]
    },
    {
      "cell_type": "code",
      "execution_count": null,
      "metadata": {
        "id": "Y-VPLGg9co8Z"
      },
      "outputs": [],
      "source": [
        "column = data[:, np.newaxis]"
      ]
    },
    {
      "cell_type": "code",
      "execution_count": null,
      "metadata": {
        "id": "DjIN2D-Ico8Z"
      },
      "outputs": [],
      "source": [
        "column"
      ]
    },
    {
      "cell_type": "code",
      "execution_count": null,
      "metadata": {
        "id": "_8wxw22pco8Z"
      },
      "outputs": [],
      "source": [
        "row = data[np.newaxis, :]"
      ]
    },
    {
      "cell_type": "code",
      "execution_count": null,
      "metadata": {
        "id": "bHNyo63cco8Z"
      },
      "outputs": [],
      "source": [
        "row"
      ]
    },
    {
      "cell_type": "code",
      "execution_count": null,
      "metadata": {
        "id": "0HNLcA2Zco8Z"
      },
      "outputs": [],
      "source": [
        "data = np.arange(5)"
      ]
    },
    {
      "cell_type": "code",
      "execution_count": null,
      "metadata": {
        "id": "isYJQseEco8Z"
      },
      "outputs": [],
      "source": [
        "data"
      ]
    },
    {
      "cell_type": "code",
      "execution_count": null,
      "metadata": {
        "id": "NFggYlnGco8Z"
      },
      "outputs": [],
      "source": [
        "np.vstack((data, data, data))"
      ]
    },
    {
      "cell_type": "code",
      "execution_count": null,
      "metadata": {
        "id": "oYCjsUfCco8Z"
      },
      "outputs": [],
      "source": [
        "data = np.arange(5)"
      ]
    },
    {
      "cell_type": "code",
      "execution_count": null,
      "metadata": {
        "id": "yjO-aa6pco8a"
      },
      "outputs": [],
      "source": [
        "data"
      ]
    },
    {
      "cell_type": "code",
      "execution_count": null,
      "metadata": {
        "id": "_FJXPHZhco8a"
      },
      "outputs": [],
      "source": [
        "np.hstack((data, data, data))"
      ]
    },
    {
      "cell_type": "code",
      "execution_count": null,
      "metadata": {
        "id": "m_xPzlMKco8a"
      },
      "outputs": [],
      "source": [
        "data = data[:, np.newaxis]"
      ]
    },
    {
      "cell_type": "code",
      "execution_count": null,
      "metadata": {
        "id": "cVudKL6hco8a"
      },
      "outputs": [],
      "source": [
        "np.hstack((data, data, data))"
      ]
    },
    {
      "cell_type": "markdown",
      "metadata": {
        "id": "NGHQDnceco8a"
      },
      "source": [
        "## Vectorized expressions"
      ]
    },
    {
      "cell_type": "markdown",
      "metadata": {
        "id": "fYlRZYmVco8a"
      },
      "source": [
        "### Arithmetic operations"
      ]
    },
    {
      "cell_type": "code",
      "execution_count": null,
      "metadata": {
        "id": "Iib8XEx0co8a"
      },
      "outputs": [],
      "source": [
        "x = np.array([[1, 2], [3, 4]])"
      ]
    },
    {
      "cell_type": "code",
      "execution_count": null,
      "metadata": {
        "id": "m_nP_csdco8a"
      },
      "outputs": [],
      "source": [
        "y = np.array([[5, 6], [7, 8]])"
      ]
    },
    {
      "cell_type": "code",
      "execution_count": null,
      "metadata": {
        "id": "eqr7HQ4Wco8a"
      },
      "outputs": [],
      "source": [
        "x + y"
      ]
    },
    {
      "cell_type": "code",
      "execution_count": null,
      "metadata": {
        "id": "HL7yY_3qco8a"
      },
      "outputs": [],
      "source": [
        "y - x"
      ]
    },
    {
      "cell_type": "code",
      "execution_count": null,
      "metadata": {
        "id": "Ab-REwTfco8a"
      },
      "outputs": [],
      "source": [
        "x * y"
      ]
    },
    {
      "cell_type": "code",
      "execution_count": null,
      "metadata": {
        "id": "z1v2y25tco8a"
      },
      "outputs": [],
      "source": [
        "y / x"
      ]
    },
    {
      "cell_type": "code",
      "execution_count": null,
      "metadata": {
        "id": "GLPoYhaKco8a"
      },
      "outputs": [],
      "source": [
        "x * 2"
      ]
    },
    {
      "cell_type": "code",
      "execution_count": null,
      "metadata": {
        "id": "dhapRZfSco8a"
      },
      "outputs": [],
      "source": [
        "2 ** x"
      ]
    },
    {
      "cell_type": "code",
      "execution_count": null,
      "metadata": {
        "id": "fcLeZX57co8b"
      },
      "outputs": [],
      "source": [
        "y / 2"
      ]
    },
    {
      "cell_type": "code",
      "execution_count": null,
      "metadata": {
        "id": "cL6V-fIXco8b"
      },
      "outputs": [],
      "source": [
        "(y / 2).dtype"
      ]
    },
    {
      "cell_type": "code",
      "execution_count": null,
      "metadata": {
        "id": "d2BC2bUeco8b"
      },
      "outputs": [],
      "source": [
        "x = np.array([1, 2, 3, 4]).reshape(2,2)"
      ]
    },
    {
      "cell_type": "code",
      "execution_count": null,
      "metadata": {
        "id": "BFqZYDP6co8b"
      },
      "outputs": [],
      "source": [
        "z = np.array([1, 2, 3, 4])"
      ]
    },
    {
      "cell_type": "code",
      "execution_count": null,
      "metadata": {
        "id": "vSpLJgOtco8b"
      },
      "outputs": [],
      "source": [
        "x / z"
      ]
    },
    {
      "cell_type": "code",
      "execution_count": null,
      "metadata": {
        "id": "l2yI_rBoco8b"
      },
      "outputs": [],
      "source": [
        "z = np.array([[2, 4]])"
      ]
    },
    {
      "cell_type": "code",
      "execution_count": null,
      "metadata": {
        "id": "15eg6ADSco8b"
      },
      "outputs": [],
      "source": [
        "z"
      ]
    },
    {
      "cell_type": "code",
      "execution_count": null,
      "metadata": {
        "id": "vJFHV3blco8b"
      },
      "outputs": [],
      "source": [
        "z.shape"
      ]
    },
    {
      "cell_type": "code",
      "execution_count": null,
      "metadata": {
        "id": "LT3ELj2Wco8b"
      },
      "outputs": [],
      "source": [
        "x / z"
      ]
    },
    {
      "cell_type": "code",
      "execution_count": null,
      "metadata": {
        "id": "aaSAmzDyco8b"
      },
      "outputs": [],
      "source": [
        "zz = np.concatenate([z, z], axis=0)"
      ]
    },
    {
      "cell_type": "code",
      "execution_count": null,
      "metadata": {
        "id": "-38LF0Foco8b"
      },
      "outputs": [],
      "source": [
        "zz"
      ]
    },
    {
      "cell_type": "code",
      "execution_count": null,
      "metadata": {
        "id": "i1s6s4b-co8b"
      },
      "outputs": [],
      "source": [
        "x / zz"
      ]
    },
    {
      "cell_type": "code",
      "execution_count": null,
      "metadata": {
        "id": "TE2wuFpDco8c"
      },
      "outputs": [],
      "source": [
        "z = np.array([[2], [4]])"
      ]
    },
    {
      "cell_type": "code",
      "execution_count": null,
      "metadata": {
        "id": "e_GNEd9fco8c"
      },
      "outputs": [],
      "source": [
        "z.shape"
      ]
    },
    {
      "cell_type": "code",
      "execution_count": null,
      "metadata": {
        "id": "yAZJ1ORPco8c"
      },
      "outputs": [],
      "source": [
        "x / z"
      ]
    },
    {
      "cell_type": "code",
      "execution_count": null,
      "metadata": {
        "id": "mspUnklNco8c"
      },
      "outputs": [],
      "source": [
        "zz = np.concatenate([z, z], axis=1)"
      ]
    },
    {
      "cell_type": "code",
      "execution_count": null,
      "metadata": {
        "id": "16Tv6YQnco8c"
      },
      "outputs": [],
      "source": [
        "zz"
      ]
    },
    {
      "cell_type": "code",
      "execution_count": null,
      "metadata": {
        "id": "eusgvfFyco8c"
      },
      "outputs": [],
      "source": [
        "x / zz"
      ]
    },
    {
      "cell_type": "code",
      "execution_count": null,
      "metadata": {
        "id": "_ynF1g5Hco8c"
      },
      "outputs": [],
      "source": [
        "x = np.array([[1, 3], [2, 4]])\n",
        "x = x + y\n",
        "x"
      ]
    },
    {
      "cell_type": "code",
      "execution_count": null,
      "metadata": {
        "id": "urayb0M9co8c"
      },
      "outputs": [],
      "source": [
        "x = np.array([[1, 3], [2, 4]])\n",
        "x += y\n",
        "x"
      ]
    },
    {
      "cell_type": "markdown",
      "metadata": {
        "id": "x4mofU8Ico8c"
      },
      "source": [
        "### Elementwise functions"
      ]
    },
    {
      "cell_type": "code",
      "execution_count": null,
      "metadata": {
        "id": "uW-xqhmvco8c"
      },
      "outputs": [],
      "source": [
        "x = np.linspace(-1, 1, 11)"
      ]
    },
    {
      "cell_type": "code",
      "execution_count": null,
      "metadata": {
        "id": "E7MgKdP0co8c"
      },
      "outputs": [],
      "source": [
        "x"
      ]
    },
    {
      "cell_type": "code",
      "execution_count": null,
      "metadata": {
        "id": "bkI8jpwcco8c"
      },
      "outputs": [],
      "source": [
        "y = np.sin(np.pi * x)"
      ]
    },
    {
      "cell_type": "code",
      "execution_count": null,
      "metadata": {
        "id": "dBl3U3cIco8c"
      },
      "outputs": [],
      "source": [
        "np.round(y, decimals=4)"
      ]
    },
    {
      "cell_type": "code",
      "execution_count": null,
      "metadata": {
        "id": "uCL1vDaqco8c"
      },
      "outputs": [],
      "source": [
        "np.add(np.sin(x) ** 2, np.cos(x) ** 2)"
      ]
    },
    {
      "cell_type": "code",
      "execution_count": null,
      "metadata": {
        "id": "B3gQaAnVco8d"
      },
      "outputs": [],
      "source": [
        "np.sin(x) ** 2 + np.cos(x) ** 2"
      ]
    },
    {
      "cell_type": "code",
      "execution_count": null,
      "metadata": {
        "id": "X5KAenUVco8d"
      },
      "outputs": [],
      "source": [
        "def heaviside(x):\n",
        "    return 1 if x > 0 else 0"
      ]
    },
    {
      "cell_type": "code",
      "execution_count": null,
      "metadata": {
        "id": "vQAjKSiPco8d"
      },
      "outputs": [],
      "source": [
        "heaviside(-1)"
      ]
    },
    {
      "cell_type": "code",
      "execution_count": null,
      "metadata": {
        "id": "2m51P9ZCco8d"
      },
      "outputs": [],
      "source": [
        "heaviside(1.5)"
      ]
    },
    {
      "cell_type": "code",
      "execution_count": null,
      "metadata": {
        "id": "gnRIhEaVco8d"
      },
      "outputs": [],
      "source": [
        "x = np.linspace(-5, 5, 11)"
      ]
    },
    {
      "cell_type": "code",
      "execution_count": null,
      "metadata": {
        "id": "UIPwsrXfco8d"
      },
      "outputs": [],
      "source": [
        "heaviside(x)"
      ]
    },
    {
      "cell_type": "code",
      "execution_count": null,
      "metadata": {
        "id": "eh-nPJFeco8d"
      },
      "outputs": [],
      "source": [
        "heaviside = np.vectorize(heaviside)"
      ]
    },
    {
      "cell_type": "code",
      "execution_count": null,
      "metadata": {
        "id": "Fa6y-5Mqco8d"
      },
      "outputs": [],
      "source": [
        "heaviside(x)"
      ]
    },
    {
      "cell_type": "code",
      "execution_count": null,
      "metadata": {
        "id": "Fm8J7t_vco8d"
      },
      "outputs": [],
      "source": [
        "def heaviside(x):\n",
        "    return 1.0 * (x > 0)"
      ]
    },
    {
      "cell_type": "markdown",
      "metadata": {
        "id": "MQ5PMbTCco8d"
      },
      "source": [
        "### Aggregate functions"
      ]
    },
    {
      "cell_type": "code",
      "execution_count": null,
      "metadata": {
        "id": "-PwptKvzco8e"
      },
      "outputs": [],
      "source": [
        "data = np.random.normal(size=(15,15))"
      ]
    },
    {
      "cell_type": "code",
      "execution_count": null,
      "metadata": {
        "id": "10XGKI37co8e"
      },
      "outputs": [],
      "source": [
        "np.mean(data)"
      ]
    },
    {
      "cell_type": "code",
      "execution_count": null,
      "metadata": {
        "id": "PxdiA949co8e"
      },
      "outputs": [],
      "source": [
        "data.mean()"
      ]
    },
    {
      "cell_type": "code",
      "execution_count": null,
      "metadata": {
        "id": "kEY-pB0cco8e"
      },
      "outputs": [],
      "source": [
        "data = np.random.normal(size=(5, 10, 15))"
      ]
    },
    {
      "cell_type": "code",
      "execution_count": null,
      "metadata": {
        "id": "XIcXp_h2co8e"
      },
      "outputs": [],
      "source": [
        "data.sum(axis=0).shape"
      ]
    },
    {
      "cell_type": "code",
      "execution_count": null,
      "metadata": {
        "id": "vP8jUkPBco8e"
      },
      "outputs": [],
      "source": [
        "data.sum(axis=(0, 2)).shape"
      ]
    },
    {
      "cell_type": "code",
      "execution_count": null,
      "metadata": {
        "id": "QBNMFEujco8e"
      },
      "outputs": [],
      "source": [
        "data.sum()"
      ]
    },
    {
      "cell_type": "code",
      "execution_count": null,
      "metadata": {
        "id": "1v-l91e6co8e"
      },
      "outputs": [],
      "source": [
        "data = np.arange(1,10).reshape(3,3)"
      ]
    },
    {
      "cell_type": "code",
      "execution_count": null,
      "metadata": {
        "id": "Mg4VuRVeco8e"
      },
      "outputs": [],
      "source": [
        "data"
      ]
    },
    {
      "cell_type": "code",
      "execution_count": null,
      "metadata": {
        "id": "zzWhpLyVco8e"
      },
      "outputs": [],
      "source": [
        "data.sum()"
      ]
    },
    {
      "cell_type": "code",
      "execution_count": null,
      "metadata": {
        "id": "O0oZwh5bco8e"
      },
      "outputs": [],
      "source": [
        "data.sum(axis=0)"
      ]
    },
    {
      "cell_type": "code",
      "execution_count": null,
      "metadata": {
        "id": "D7fK0xP3co8e"
      },
      "outputs": [],
      "source": [
        "data.sum(axis=1)"
      ]
    },
    {
      "cell_type": "markdown",
      "metadata": {
        "id": "nPPz4YJBco8f"
      },
      "source": [
        "### Boolean arrays and conditional expressions"
      ]
    },
    {
      "cell_type": "code",
      "execution_count": null,
      "metadata": {
        "id": "impFkBH0co8f"
      },
      "outputs": [],
      "source": [
        "a = np.array([1, 2, 3, 4])"
      ]
    },
    {
      "cell_type": "code",
      "execution_count": null,
      "metadata": {
        "id": "RDtA1XnJco8f"
      },
      "outputs": [],
      "source": [
        "b = np.array([4, 3, 2, 1])"
      ]
    },
    {
      "cell_type": "code",
      "execution_count": null,
      "metadata": {
        "id": "WN5EK3ZEco8f"
      },
      "outputs": [],
      "source": [
        "a < b"
      ]
    },
    {
      "cell_type": "code",
      "execution_count": null,
      "metadata": {
        "id": "ihmkWwftco8f"
      },
      "outputs": [],
      "source": [
        "np.all(a < b)"
      ]
    },
    {
      "cell_type": "code",
      "execution_count": null,
      "metadata": {
        "id": "i8_fDkjLco8f"
      },
      "outputs": [],
      "source": [
        "np.any(a < b)"
      ]
    },
    {
      "cell_type": "code",
      "execution_count": null,
      "metadata": {
        "id": "y00WI3Qnco8f"
      },
      "outputs": [],
      "source": [
        "if np.all(a < b):\n",
        "    print(\"All elements in a are smaller than their corresponding element in b\")\n",
        "elif np.any(a < b):\n",
        "    print(\"Some elements in a are smaller than their corresponding elemment in b\")\n",
        "else:\n",
        "    print(\"All elements in b are smaller than their corresponding element in a\")"
      ]
    },
    {
      "cell_type": "code",
      "execution_count": null,
      "metadata": {
        "id": "WA2PWcywco8f"
      },
      "outputs": [],
      "source": [
        "x = np.array([-2, -1, 0, 1, 2])"
      ]
    },
    {
      "cell_type": "code",
      "execution_count": null,
      "metadata": {
        "id": "sCB3ki_Uco8f"
      },
      "outputs": [],
      "source": [
        "x > 0"
      ]
    },
    {
      "cell_type": "code",
      "execution_count": null,
      "metadata": {
        "id": "NISjCoJXco8f"
      },
      "outputs": [],
      "source": [
        "1 * (x > 0)"
      ]
    },
    {
      "cell_type": "code",
      "execution_count": null,
      "metadata": {
        "id": "wnyhm33Sco8f"
      },
      "outputs": [],
      "source": [
        "x * (x > 0)"
      ]
    },
    {
      "cell_type": "code",
      "execution_count": null,
      "metadata": {
        "id": "YbHlRv8pco8g"
      },
      "outputs": [],
      "source": [
        "def pulse(x, position, height, width):\n",
        "    return height * (x >= position) * (x <= (position + width))"
      ]
    },
    {
      "cell_type": "code",
      "execution_count": null,
      "metadata": {
        "id": "rojHCIsKco8g"
      },
      "outputs": [],
      "source": [
        "x = np.linspace(-5, 5, 11)"
      ]
    },
    {
      "cell_type": "code",
      "execution_count": null,
      "metadata": {
        "id": "s9GAXuYfco8g"
      },
      "outputs": [],
      "source": [
        "pulse(x, position=-2, height=1, width=5)"
      ]
    },
    {
      "cell_type": "code",
      "execution_count": null,
      "metadata": {
        "id": "XgDydB7hco8g"
      },
      "outputs": [],
      "source": [
        "pulse(x, position=1, height=1, width=5)"
      ]
    },
    {
      "cell_type": "code",
      "execution_count": null,
      "metadata": {
        "id": "HjJ-2czAco8g"
      },
      "outputs": [],
      "source": [
        "def pulse(x, position, height, width):\n",
        "    return height * np.logical_and(x >= position, x <= (position + width))"
      ]
    },
    {
      "cell_type": "code",
      "execution_count": null,
      "metadata": {
        "id": "_JyzPrPUco8g"
      },
      "outputs": [],
      "source": [
        "x = np.linspace(-4, 4, 9)"
      ]
    },
    {
      "cell_type": "code",
      "execution_count": null,
      "metadata": {
        "id": "3zOgUABrco8g"
      },
      "outputs": [],
      "source": [
        "np.where(x < 0, x**2, x**3)"
      ]
    },
    {
      "cell_type": "code",
      "execution_count": null,
      "metadata": {
        "id": "48DHjMnbco8g"
      },
      "outputs": [],
      "source": [
        "np.select([x < -1, x < 2, x >= 2],\n",
        "          [x**2  , x**3 , x**4])"
      ]
    },
    {
      "cell_type": "code",
      "execution_count": null,
      "metadata": {
        "id": "XkqIeEsrco8g"
      },
      "outputs": [],
      "source": [
        "np.choose([0, 0, 0, 1, 1, 1, 2, 2, 2],\n",
        "          [x**2,    x**3,    x**4])"
      ]
    },
    {
      "cell_type": "code",
      "execution_count": null,
      "metadata": {
        "id": "PerArCqkco8g"
      },
      "outputs": [],
      "source": [
        "x[abs(x) > 2]"
      ]
    },
    {
      "cell_type": "code",
      "execution_count": null,
      "metadata": {
        "id": "OToiuF3Oco8g"
      },
      "outputs": [],
      "source": [
        "np.nonzero(abs(x) > 2)"
      ]
    },
    {
      "cell_type": "code",
      "execution_count": null,
      "metadata": {
        "id": "MZ4hwpMJco8g"
      },
      "outputs": [],
      "source": [
        "x[np.nonzero(abs(x) > 2)]"
      ]
    },
    {
      "cell_type": "markdown",
      "metadata": {
        "id": "Xg8xGuqbco8g"
      },
      "source": [
        "# Set operations"
      ]
    },
    {
      "cell_type": "code",
      "execution_count": null,
      "metadata": {
        "id": "9GDt2yh-co8h"
      },
      "outputs": [],
      "source": [
        "a = np.unique([1,2,3,3])"
      ]
    },
    {
      "cell_type": "code",
      "execution_count": null,
      "metadata": {
        "id": "4HCiDFstco8h"
      },
      "outputs": [],
      "source": [
        "b = np.unique([2,3,4,4,5,6,5])"
      ]
    },
    {
      "cell_type": "code",
      "execution_count": null,
      "metadata": {
        "id": "elFbkvnLco8h"
      },
      "outputs": [],
      "source": [
        "np.in1d(a, b)"
      ]
    },
    {
      "cell_type": "code",
      "execution_count": null,
      "metadata": {
        "id": "tbv_Fb22co8h"
      },
      "outputs": [],
      "source": [
        "1 in a"
      ]
    },
    {
      "cell_type": "code",
      "execution_count": null,
      "metadata": {
        "id": "WeTC3O-2co8h"
      },
      "outputs": [],
      "source": [
        "1 in b"
      ]
    },
    {
      "cell_type": "code",
      "execution_count": null,
      "metadata": {
        "id": "8xidLJZNco8h"
      },
      "outputs": [],
      "source": [
        "np.all(np.in1d(a, b))"
      ]
    },
    {
      "cell_type": "code",
      "execution_count": null,
      "metadata": {
        "id": "TNGqp9gDco8h"
      },
      "outputs": [],
      "source": [
        "np.union1d(a, b)"
      ]
    },
    {
      "cell_type": "code",
      "execution_count": null,
      "metadata": {
        "id": "FLZqTPkIco8h"
      },
      "outputs": [],
      "source": [
        "np.intersect1d(a, b)"
      ]
    },
    {
      "cell_type": "code",
      "execution_count": null,
      "metadata": {
        "id": "LnFJamF8co8h"
      },
      "outputs": [],
      "source": [
        "np.setdiff1d(a, b)"
      ]
    },
    {
      "cell_type": "code",
      "execution_count": null,
      "metadata": {
        "id": "di8Sh1WVco8h"
      },
      "outputs": [],
      "source": [
        "np.setdiff1d(b, a)"
      ]
    },
    {
      "cell_type": "markdown",
      "metadata": {
        "id": "muQcqAVBco8h"
      },
      "source": [
        "### Operations on arrays"
      ]
    },
    {
      "cell_type": "code",
      "execution_count": null,
      "metadata": {
        "id": "xV2yHLjvco8h"
      },
      "outputs": [],
      "source": [
        "data = np.arange(9).reshape(3, 3)"
      ]
    },
    {
      "cell_type": "code",
      "execution_count": null,
      "metadata": {
        "id": "hxz50Z4Tco8h"
      },
      "outputs": [],
      "source": [
        "data"
      ]
    },
    {
      "cell_type": "code",
      "execution_count": null,
      "metadata": {
        "id": "HUZPqeBOco8i"
      },
      "outputs": [],
      "source": [
        "np.transpose(data)"
      ]
    },
    {
      "cell_type": "code",
      "execution_count": null,
      "metadata": {
        "id": "FMUj3iwAco8i"
      },
      "outputs": [],
      "source": [
        "data = np.random.randn(1, 2, 3, 4, 5)"
      ]
    },
    {
      "cell_type": "code",
      "execution_count": null,
      "metadata": {
        "id": "IZNZqquPco8i"
      },
      "outputs": [],
      "source": [
        "data.shape"
      ]
    },
    {
      "cell_type": "code",
      "execution_count": null,
      "metadata": {
        "id": "A-fB0HOSco8i"
      },
      "outputs": [],
      "source": [
        "data.T.shape"
      ]
    },
    {
      "cell_type": "markdown",
      "metadata": {
        "id": "iEnrd8PIco8i"
      },
      "source": [
        "## Matrix and vector operations"
      ]
    },
    {
      "cell_type": "code",
      "execution_count": null,
      "metadata": {
        "id": "BQMHHEE-co8i"
      },
      "outputs": [],
      "source": [
        "A = np.arange(1, 7).reshape(2, 3)"
      ]
    },
    {
      "cell_type": "code",
      "execution_count": null,
      "metadata": {
        "id": "CiqU9ANPco8i"
      },
      "outputs": [],
      "source": [
        "A"
      ]
    },
    {
      "cell_type": "code",
      "execution_count": null,
      "metadata": {
        "id": "hnrc02MSco8i"
      },
      "outputs": [],
      "source": [
        "B = np.arange(1, 7).reshape(3, 2)"
      ]
    },
    {
      "cell_type": "code",
      "execution_count": null,
      "metadata": {
        "id": "Ssqx8IQcco8i"
      },
      "outputs": [],
      "source": [
        "B"
      ]
    },
    {
      "cell_type": "code",
      "execution_count": null,
      "metadata": {
        "id": "PUraozVeco8i"
      },
      "outputs": [],
      "source": [
        "np.dot(A, B)"
      ]
    },
    {
      "cell_type": "code",
      "execution_count": null,
      "metadata": {
        "id": "Yd6Xaidyco8i"
      },
      "outputs": [],
      "source": [
        "np.dot(B, A)"
      ]
    },
    {
      "cell_type": "code",
      "execution_count": null,
      "metadata": {
        "id": "Gx8L9LOXco8i"
      },
      "outputs": [],
      "source": [
        "A = np.arange(9).reshape(3, 3)"
      ]
    },
    {
      "cell_type": "code",
      "execution_count": null,
      "metadata": {
        "id": "07kNo8LVco8j"
      },
      "outputs": [],
      "source": [
        "A"
      ]
    },
    {
      "cell_type": "code",
      "execution_count": null,
      "metadata": {
        "id": "x8EPl7Hmco8j"
      },
      "outputs": [],
      "source": [
        "x = np.arange(3)"
      ]
    },
    {
      "cell_type": "code",
      "execution_count": null,
      "metadata": {
        "id": "wYBanNwJco8j"
      },
      "outputs": [],
      "source": [
        "x"
      ]
    },
    {
      "cell_type": "code",
      "execution_count": null,
      "metadata": {
        "id": "OStR6Dojco8j"
      },
      "outputs": [],
      "source": [
        "np.dot(A, x)"
      ]
    },
    {
      "cell_type": "code",
      "execution_count": null,
      "metadata": {
        "id": "nSJnjHT2co8j"
      },
      "outputs": [],
      "source": [
        "A.dot(x)"
      ]
    },
    {
      "cell_type": "code",
      "execution_count": null,
      "metadata": {
        "id": "tHBT9nWyco8j"
      },
      "outputs": [],
      "source": [
        "A = np.random.rand(3,3)\n",
        "B = np.random.rand(3,3)"
      ]
    },
    {
      "cell_type": "code",
      "execution_count": null,
      "metadata": {
        "id": "tpPcZhGFco8j"
      },
      "outputs": [],
      "source": [
        "Ap = B @ A @ np.linalg.inv(B)\n",
        "Ap"
      ]
    },
    {
      "cell_type": "code",
      "execution_count": null,
      "metadata": {
        "id": "W4tq32yYco8j"
      },
      "outputs": [],
      "source": [
        "Ap = np.dot(B, np.dot(A, np.linalg.inv(B)))\n",
        "Ap"
      ]
    },
    {
      "cell_type": "code",
      "execution_count": null,
      "metadata": {
        "id": "_6IAnwkpco8j"
      },
      "outputs": [],
      "source": [
        "Ap = B.dot(A.dot(np.linalg.inv(B)))\n",
        "Ap"
      ]
    },
    {
      "cell_type": "code",
      "execution_count": null,
      "metadata": {
        "id": "_nc86G7qco8j"
      },
      "outputs": [],
      "source": [
        "A = np.matrix(A)"
      ]
    },
    {
      "cell_type": "code",
      "execution_count": null,
      "metadata": {
        "id": "BgVXYj10co8j"
      },
      "outputs": [],
      "source": [
        "B = np.matrix(B)"
      ]
    },
    {
      "cell_type": "code",
      "execution_count": null,
      "metadata": {
        "id": "C3CjZcqZco8j"
      },
      "outputs": [],
      "source": [
        "Ap = B * A * B.I"
      ]
    },
    {
      "cell_type": "code",
      "execution_count": null,
      "metadata": {
        "id": "vCBbkf02co8k"
      },
      "outputs": [],
      "source": [
        "A = np.asmatrix(A)"
      ]
    },
    {
      "cell_type": "code",
      "execution_count": null,
      "metadata": {
        "id": "hOCWnOjWco8k"
      },
      "outputs": [],
      "source": [
        "B = np.asmatrix(B)"
      ]
    },
    {
      "cell_type": "code",
      "execution_count": null,
      "metadata": {
        "id": "q7AVDjNoco8k"
      },
      "outputs": [],
      "source": [
        "Ap = B * A * B.I"
      ]
    },
    {
      "cell_type": "code",
      "execution_count": null,
      "metadata": {
        "id": "j9-Uijcoco8k"
      },
      "outputs": [],
      "source": [
        "Ap = np.asarray(Ap)"
      ]
    },
    {
      "cell_type": "code",
      "execution_count": null,
      "metadata": {
        "id": "RraIz8dKco8k"
      },
      "outputs": [],
      "source": [
        "Ap"
      ]
    },
    {
      "cell_type": "code",
      "execution_count": null,
      "metadata": {
        "id": "cCBV9dKpco8k"
      },
      "outputs": [],
      "source": [
        "np.inner(x, x)"
      ]
    },
    {
      "cell_type": "code",
      "execution_count": null,
      "metadata": {
        "id": "lgLXQohYco8k"
      },
      "outputs": [],
      "source": [
        "np.dot(x, x)"
      ]
    },
    {
      "cell_type": "code",
      "execution_count": null,
      "metadata": {
        "id": "xj06AmmUco8k"
      },
      "outputs": [],
      "source": [
        "y = x[:, np.newaxis]"
      ]
    },
    {
      "cell_type": "code",
      "execution_count": null,
      "metadata": {
        "id": "ztFDYIn4co8k"
      },
      "outputs": [],
      "source": [
        "y"
      ]
    },
    {
      "cell_type": "code",
      "execution_count": null,
      "metadata": {
        "id": "QBz6JzQzco8k"
      },
      "outputs": [],
      "source": [
        "np.dot(y.T, y)"
      ]
    },
    {
      "cell_type": "code",
      "execution_count": null,
      "metadata": {
        "id": "Ww_LzXuIco8k"
      },
      "outputs": [],
      "source": [
        "x = np.array([1, 2, 3])"
      ]
    },
    {
      "cell_type": "code",
      "execution_count": null,
      "metadata": {
        "id": "vgYvy0Koco8k"
      },
      "outputs": [],
      "source": [
        "np.outer(x, x)"
      ]
    },
    {
      "cell_type": "code",
      "execution_count": null,
      "metadata": {
        "id": "avIAtDHnco8l"
      },
      "outputs": [],
      "source": [
        "np.kron(x, x)"
      ]
    },
    {
      "cell_type": "code",
      "execution_count": null,
      "metadata": {
        "id": "EmkQQzlmco8l"
      },
      "outputs": [],
      "source": [
        "np.kron(x[:, np.newaxis], x[np.newaxis, :])"
      ]
    },
    {
      "cell_type": "code",
      "execution_count": null,
      "metadata": {
        "id": "2ycI5g1tco8l"
      },
      "outputs": [],
      "source": [
        "np.kron(np.ones((2,2)), np.identity(2))"
      ]
    },
    {
      "cell_type": "code",
      "execution_count": null,
      "metadata": {
        "id": "UV478GlIco8l"
      },
      "outputs": [],
      "source": [
        "np.kron(np.identity(2), np.ones((2,2)))"
      ]
    },
    {
      "cell_type": "code",
      "execution_count": null,
      "metadata": {
        "id": "TY7QJfrkco8l"
      },
      "outputs": [],
      "source": [
        "x = np.array([1, 2, 3, 4])"
      ]
    },
    {
      "cell_type": "code",
      "execution_count": null,
      "metadata": {
        "id": "EajPodpDco8l"
      },
      "outputs": [],
      "source": [
        "y = np.array([5, 6, 7, 8])"
      ]
    },
    {
      "cell_type": "code",
      "execution_count": null,
      "metadata": {
        "id": "Z3Kxh5ezco8l"
      },
      "outputs": [],
      "source": [
        "np.einsum(\"n,n\", x, y)"
      ]
    },
    {
      "cell_type": "code",
      "execution_count": null,
      "metadata": {
        "id": "H52V5Krsco8l"
      },
      "outputs": [],
      "source": [
        "np.inner(x, y)"
      ]
    },
    {
      "cell_type": "code",
      "execution_count": null,
      "metadata": {
        "id": "IWHnjGvzco8l"
      },
      "outputs": [],
      "source": [
        "A = np.arange(9).reshape(3, 3)"
      ]
    },
    {
      "cell_type": "code",
      "execution_count": null,
      "metadata": {
        "id": "5QMyS8zCco8l"
      },
      "outputs": [],
      "source": [
        "B = A.T"
      ]
    },
    {
      "cell_type": "code",
      "execution_count": null,
      "metadata": {
        "id": "WkdkPjZIco8l"
      },
      "outputs": [],
      "source": [
        "np.einsum(\"mk,kn\", A, B)"
      ]
    },
    {
      "cell_type": "code",
      "execution_count": null,
      "metadata": {
        "id": "_hp76pTvco8l"
      },
      "outputs": [],
      "source": [
        "np.alltrue(np.einsum(\"mk,kn\", A, B) == np.dot(A, B))"
      ]
    },
    {
      "cell_type": "markdown",
      "metadata": {
        "id": "jCgfjQoTco8l"
      },
      "source": [
        "# Versions"
      ]
    },
    {
      "cell_type": "code",
      "execution_count": null,
      "metadata": {
        "id": "rsytpgonco8l"
      },
      "outputs": [],
      "source": [
        "%reload_ext version_information\n",
        "%version_information numpy"
      ]
    },
    {
      "cell_type": "code",
      "execution_count": null,
      "metadata": {
        "id": "5wzKY1pFco8m"
      },
      "outputs": [],
      "source": []
    },
    {
      "cell_type": "code",
      "execution_count": null,
      "metadata": {
        "id": "PY8zqvdXco8m"
      },
      "outputs": [],
      "source": []
    },
    {
      "cell_type": "code",
      "execution_count": null,
      "metadata": {
        "id": "cUz_qXndco8m"
      },
      "outputs": [],
      "source": []
    },
    {
      "cell_type": "code",
      "execution_count": null,
      "metadata": {
        "id": "Tzqcb2C0co8m"
      },
      "outputs": [],
      "source": []
    },
    {
      "cell_type": "code",
      "execution_count": null,
      "metadata": {
        "id": "wYoOyIH0co8m"
      },
      "outputs": [],
      "source": []
    },
    {
      "cell_type": "code",
      "execution_count": null,
      "metadata": {
        "id": "CaJQ3g1Yco8m"
      },
      "outputs": [],
      "source": []
    }
  ],
  "metadata": {
    "language_info": {
      "name": "python"
    },
    "colab": {
      "provenance": []
    },
    "kernelspec": {
      "name": "python3",
      "display_name": "Python 3"
    }
  },
  "nbformat": 4,
  "nbformat_minor": 0
}